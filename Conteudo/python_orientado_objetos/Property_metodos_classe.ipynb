{
 "cells": [
  {
   "cell_type": "markdown",
   "metadata": {},
   "source": [
    "# Property e métodos de classe\n",
    "\n",
    "Falando em propriedades e métodos, devemos nos lembrar sobre a privacidade dos atributos\n",
    "\n",
    "Caso queiramos mudar a propriedade de uma ativo para privada, devemos adiconar \"_\" underline antes do nome do atributo, isso indica que este atributo não deve ser acessado diretamente e sim por um <code>Getter</code>, da seguinte forma:"
   ]
  },
  {
   "cell_type": "code",
   "execution_count": 2,
   "metadata": {},
   "outputs": [
    {
     "name": "stdout",
     "output_type": "stream",
     "text": [
      "Nome do restaurante       | Categoria                 | Status                   \n",
      "Praça                     | Italiano                  | Ativo                    \n",
      "Rococo                    | Italiano                  | Ativo                    \n",
      "Mandu                     | Arâbe                     | Ativo                    \n",
      "Coco Bambu                | Italiano                  | Desativo                 \n",
      "Outback                   | Australiano               | Ativo                    \n"
     ]
    }
   ],
   "source": [
    "import os\n",
    "# Criando uma classe \n",
    "class Restaurante:\n",
    "    '''Lista que ira armazenar os restaurantes'''\n",
    "    restaurantes = []\n",
    "\n",
    "    '''Método construtor'''\n",
    "    def __init__(self,nome,categoria,status = False):\n",
    "        self.nome = nome\n",
    "        self.categoria = categoria\n",
    "        #----------Aqui adicionarei o _underline, para indicar que é um método privativo---\n",
    "        self._status = status\n",
    "\n",
    "        '''Sempre que instanciar um restaurante, ja adiciona-lo a lista'''\n",
    "        Restaurante.restaurantes.append(self)\n",
    "\n",
    "    '''Método que imprime os dados do objeto'''\n",
    "    def __str__(self):\n",
    "        return f'{self.nome.ljust(25)} | {self.categoria.ljust(25)} | {self.status.ljust(25)}'\n",
    "    \n",
    "    '''Método que lista todos os restaurantes da lista'''\n",
    "    def listar_restaurantes():\n",
    "        os.system('cls')\n",
    "        print(f'{'Nome do restaurante'.ljust(25)} | {'Categoria'.ljust(25)} | {'Status'.ljust(25)}')\n",
    "        for restaurante in Restaurante.restaurantes:\n",
    "            print(restaurante)\n",
    "\n",
    "# -----------------------------------------------------AQUI CRIAMOS O PROPERTY----------------\n",
    "    @property\n",
    "    def status(self):\n",
    "        return f'Ativo' if self._status else 'Desativo'\n",
    "#-----------------------------------------------------------------------------------\n",
    "        \n",
    "# Instanciando algumas classes (criando alguns objetos) \n",
    "restaurante_praca = Restaurante('Praça','Italiano',True)\n",
    "restaurante_rococo = Restaurante('Rococo','Italiano',True)\n",
    "restaurante_mandu = Restaurante('Mandu','Arâbe',True)\n",
    "restaurante_coco_bambu = Restaurante('Coco Bambu','Italiano',False)\n",
    "restaurante_outback = Restaurante('Outback','Australiano',True)\n",
    "\n",
    "#Printar todos os restaurantes da lista\n",
    "Restaurante.listar_restaurantes()"
   ]
  },
  {
   "cell_type": "markdown",
   "metadata": {},
   "source": [
    "Usamos o <code>Property</code> quando queremos modificar a maneira como um atributo é lido\n",
    "\n",
    "Mas antes disso devemos usar os <code>Setters</code> e <code>Getters</code>"
   ]
  },
  {
   "cell_type": "markdown",
   "metadata": {},
   "source": [
    "# Fontes e emojis\n",
    "\n",
    "Podemos acessar o coolsymbols para pegar simbolos e emoji's, acessando o : <link>https://coolsymbol.com/</link>"
   ]
  },
  {
   "cell_type": "markdown",
   "metadata": {},
   "source": [
    "# .Title()\n",
    "\n",
    "Método que faz com que a <c style=\"color:springgreen\">letra das palavras </c>da string sejam<c style=\"color:springgreen\"> maiuscula</c>\n",
    "\n",
    "Veja o exemplo:"
   ]
  },
  {
   "cell_type": "code",
   "execution_count": 4,
   "metadata": {},
   "outputs": [
    {
     "name": "stdout",
     "output_type": "stream",
     "text": [
      "andre cabalo\n",
      "Andre Cabalo\n"
     ]
    }
   ],
   "source": [
    "nome = 'andre cabalo'\n",
    "\n",
    "print(nome)\n",
    "\n",
    "print(nome.title())"
   ]
  },
  {
   "cell_type": "markdown",
   "metadata": {},
   "source": [
    "# .Capitalize()\n",
    "\n",
    "Método que faz com que a <c style=\"color:Crimson\">primeira letra da primeira palavra </c>da string seja<c style=\"color:Crimson\"> maiuscula</c>\n",
    "\n",
    "Veja o exemplo:"
   ]
  },
  {
   "cell_type": "code",
   "execution_count": 5,
   "metadata": {},
   "outputs": [
    {
     "name": "stdout",
     "output_type": "stream",
     "text": [
      "andre cabalo\n",
      "Andre cabalo\n"
     ]
    }
   ],
   "source": [
    "nome = 'andre cabalo'\n",
    "\n",
    "print(nome)\n",
    "\n",
    "print(nome.capitalize())"
   ]
  },
  {
   "cell_type": "markdown",
   "metadata": {},
   "source": [
    "# .Upper()\n",
    "\n",
    "Método que faz com que <c style=\"color:Crimson\">todas letras sejam maiusculas</c>\n",
    "\n",
    "Veja o exemplo:"
   ]
  },
  {
   "cell_type": "code",
   "execution_count": 6,
   "metadata": {},
   "outputs": [
    {
     "name": "stdout",
     "output_type": "stream",
     "text": [
      "andre carvalho cabalo\n",
      "ANDRE CARVALHO CABALO\n"
     ]
    }
   ],
   "source": [
    "nome = 'andre carvalho cabalo'\n",
    "print(nome)\n",
    "\n",
    "print(nome.upper())"
   ]
  },
  {
   "cell_type": "markdown",
   "metadata": {},
   "source": [
    "# Dica atalhos VS Code\n",
    "\n",
    "selecionar atributo e apertar <code>f2</code> e renomear com _atributo para privacidade do atributo automaticamente nos campos deste atributo"
   ]
  },
  {
   "cell_type": "markdown",
   "metadata": {},
   "source": [
    "# @Classmethod \n",
    "\n",
    "Existe dois tipos conhecidos de métodos, os <t style=\"color:crimson\">métodos de instancia</t>, onde usamos a instancia de um objeto da classe como parametro e também temos o <t style=\"color:springgreen\">métodos de classe</t>, no qual usamos a classe como parametro, quando não precisamos utilizar nenhuma instancia para rodar este método, quando isso ocorrer, é fortemente recomendado que apontemos este metodo com <t style=\"color:springgreen\">@classmethod</t>\n",
    "\n",
    "Vejamos os exemplos:"
   ]
  },
  {
   "cell_type": "code",
   "execution_count": 2,
   "metadata": {},
   "outputs": [
    {
     "name": "stdout",
     "output_type": "stream",
     "text": [
      "Método instancia que mostra o modelo do carro - O modelo é Up Take Up\n"
     ]
    }
   ],
   "source": [
    "#Método de instancia\n",
    "class Carro:\n",
    "    def __init__(self,modelo):\n",
    "        self.modelo = modelo\n",
    "\n",
    "    def exibir_modelo(self):\n",
    "        return f'O modelo é {self.modelo}'\n",
    "    \n",
    "carro_instancia = Carro('Up Take Up')\n",
    "print(f'Método instancia que mostra o modelo do carro - {carro_instancia.exibir_modelo()}')\n"
   ]
  },
  {
   "cell_type": "code",
   "execution_count": 3,
   "metadata": {},
   "outputs": [
    {
     "name": "stdout",
     "output_type": "stream",
     "text": [
      "Método de classe que mostra que: - É um carro\n"
     ]
    }
   ],
   "source": [
    "#Método de classe\n",
    "class Carro:\n",
    "    def __init__(self,modelo):\n",
    "        self.modelo = modelo\n",
    "\n",
    "    @classmethod\n",
    "    def exibir_classe(self):\n",
    "        return f'É um carro'\n",
    "    \n",
    "print(f'Método de classe que mostra que: - {Carro.exibir_classe()}')"
   ]
  },
  {
   "cell_type": "markdown",
   "metadata": {},
   "source": [
    "# Exercicios\n",
    "\n",
    "1-Crie uma nova classe chamada Pessoa com atributos como nome, idade e profissão. Adicione um método especial __str__ para imprimir uma representação em string da pessoa. Implemente também um método de instância chamado aniversario que aumenta a idade da pessoa em um ano. Por fim, adicione uma propriedade chamada saudacao que retorna uma mensagem de saudação personalizada com base na profissão da pessoa.\n"
   ]
  },
  {
   "cell_type": "code",
   "execution_count": 19,
   "metadata": {},
   "outputs": [
    {
     "name": "stdout",
     "output_type": "stream",
     "text": [
      "Andre, tem 31 anos de idade e é Arquiteto\n",
      "Andre, tem 32 anos de idade e é Arquiteto\n"
     ]
    },
    {
     "data": {
      "text/plain": [
       "'Olá Andre, tudo bom? Fiquei sabendo que você é Arquiteto, isso é verdade?'"
      ]
     },
     "execution_count": 19,
     "metadata": {},
     "output_type": "execute_result"
    }
   ],
   "source": [
    "class Pessoa:\n",
    "    def __init__(self, nome, idade, profissao):\n",
    "        self.nome = nome\n",
    "        self.idade = idade\n",
    "        self.profissao = profissao\n",
    "\n",
    "    def __str__(self):\n",
    "        return f'{self.nome.title()}, tem {self.idade} anos de idade e é {self.profissao}'\n",
    "    \n",
    "    def aniversario(self):\n",
    "        self.idade = self.idade + 1\n",
    "\n",
    "    def saudacao(self):\n",
    "        return f'Olá {self.nome.title()}, tudo bom? Fiquei sabendo que você é {self.profissao}, isso é verdade?'\n",
    "    \n",
    "andre = Pessoa('andre',31 ,'Arquiteto')\n",
    "print(andre)\n",
    "andre.aniversario()\n",
    "print(andre)\n",
    "andre.saudacao()"
   ]
  },
  {
   "cell_type": "markdown",
   "metadata": {},
   "source": [
    "2-Crie uma classe chamada ContaBancaria com um construtor que aceita os parâmetros titular e saldo. Inicie o atributo ativo como False por padrão."
   ]
  },
  {
   "cell_type": "code",
   "execution_count": 20,
   "metadata": {},
   "outputs": [],
   "source": [
    "class ContaBancaria:\n",
    "    def __init__(self, titular, saldo):\n",
    "        self.titular = titular.title()\n",
    "        self.saldo = saldo\n",
    "        self.ativo = False\n",
    "\n",
    "andre = ContaBancaria('andre', 3000)"
   ]
  },
  {
   "cell_type": "markdown",
   "metadata": {},
   "source": [
    "3 - Na classe ContaBancaria, adicione um método especial __str__ que retorna uma mensagem formatada com o titular e o saldo da conta. Crie duas instâncias da classe e imprima essas instâncias."
   ]
  },
  {
   "cell_type": "code",
   "execution_count": 23,
   "metadata": {},
   "outputs": [
    {
     "name": "stdout",
     "output_type": "stream",
     "text": [
      "Olá Andre, seu saldo atual é de : 3000\n",
      "Olá Lohana, seu saldo atual é de : 4200\n"
     ]
    }
   ],
   "source": [
    "class ContaBancaria:\n",
    "    def __init__(self, titular, saldo):\n",
    "        self.titular = titular.title()\n",
    "        self.saldo = saldo\n",
    "        self.ativo = False\n",
    "\n",
    "    def __str__(self):\n",
    "        return f'Olá {self.titular}, seu saldo atual é de : {self.saldo}'\n",
    "\n",
    "andre = ContaBancaria('andre', 3000)\n",
    "lohana = ContaBancaria('lohana', 4200)\n",
    "\n",
    "print(andre)\n",
    "print(lohana)"
   ]
  },
  {
   "cell_type": "markdown",
   "metadata": {},
   "source": [
    "4 -Adicione um método de classe chamado ativar_conta à classe ContaBancaria que define o atributo ativo como True. Crie uma instância da classe, chame o método de classe e imprima o valor de ativo."
   ]
  },
  {
   "cell_type": "code",
   "execution_count": 32,
   "metadata": {},
   "outputs": [
    {
     "name": "stdout",
     "output_type": "stream",
     "text": [
      "Olá Andre, seu saldo atual é de : 3000 e sua conta encontra-se False\n",
      "Olá Lohana, seu saldo atual é de : 4200 e sua conta encontra-se False\n",
      "Olá Lohana, seu saldo atual é de : 4200 e sua conta encontra-se True\n"
     ]
    }
   ],
   "source": [
    "class ContaBancaria:\n",
    "    def __init__(self, titular, saldo):\n",
    "        self.titular = titular.title()\n",
    "        self.saldo = saldo\n",
    "        self.ativo = False\n",
    "\n",
    "    def __str__(self):\n",
    "        return f'Olá {self.titular}, seu saldo atual é de : {self.saldo} e sua conta encontra-se {self.ativo}'\n",
    "    \n",
    "    def ativar_conta(self):\n",
    "        self.ativo = True\n",
    "\n",
    "andre = ContaBancaria('andre', 3000)\n",
    "print(andre)\n",
    "lohana = ContaBancaria('lohana', 4200)\n",
    "print(lohana)\n",
    "lohana.ativar_conta()\n",
    "print(lohana)"
   ]
  },
  {
   "cell_type": "markdown",
   "metadata": {},
   "source": [
    "5- Refatore a classe ContaBancaria para utilizar a abordagem \"pythonica\" na criação de atributos. Utilize propriedades, se necessário."
   ]
  },
  {
   "cell_type": "code",
   "execution_count": 37,
   "metadata": {},
   "outputs": [
    {
     "name": "stdout",
     "output_type": "stream",
     "text": [
      "Olá Andre, seu saldo atual é de : 3000 e sua conta encontra-se False\n",
      "Olá Lohana, seu saldo atual é de : 4200 e sua conta encontra-se False\n",
      "Olá Lohana, seu saldo atual é de : 4200 e sua conta encontra-se True\n"
     ]
    }
   ],
   "source": [
    "class ContaBancaria:\n",
    "    def __init__(self, titular, saldo):\n",
    "        self._titular = titular.title()\n",
    "        self._saldo = saldo\n",
    "        self._ativo = False\n",
    "\n",
    "\n",
    "    @property\n",
    "    def titular(self):\n",
    "        return self._titular\n",
    "    \n",
    "    @property\n",
    "    def saldo(self):\n",
    "        return f'R${self._saldo.format(5,1)}'\n",
    "    \n",
    "    def ativo(self):\n",
    "        return f'Está ativo'if self._ativo else 'Está desativo'\n",
    "    \n",
    "    def __str__(self):\n",
    "        return f'Olá {self._titular}, seu saldo atual é de : {self._saldo} e sua conta encontra-se {self._ativo}'\n",
    "    \n",
    "    def ativar_conta(self):\n",
    "        self._ativo = True\n",
    "\n",
    "andre = ContaBancaria('andre', 3000)\n",
    "print(andre)\n",
    "lohana = ContaBancaria('lohana', 4200)\n",
    "print(lohana)\n",
    "lohana.ativar_conta()\n",
    "print(lohana)"
   ]
  },
  {
   "cell_type": "markdown",
   "metadata": {},
   "source": [
    "6-Crie uma classe chamada ClienteBanco com um construtor que aceita 5 atributos. Instancie 3 objetos desta classe e atribua valores aos seus atributos através do método construtor."
   ]
  },
  {
   "cell_type": "code",
   "execution_count": 52,
   "metadata": {},
   "outputs": [
    {
     "name": "stdout",
     "output_type": "stream",
     "text": [
      "Andre                | CPF: 123                  | Sexo: Masculino            | Endereço Rua Inverno         \n",
      "Andre                | CPF: 123                  | Sexo: Masculino            | Endereço Rua Jaime           \n",
      "Lohana               | CPF: 123                  | Sexo: Feminino             | Endereço Rua Jaime Atilio    \n",
      "Ana                  | CPF: 123                  | Sexo: Feminino             | Endereço Rua Inverno         \n"
     ]
    }
   ],
   "source": [
    "class ClienteBanco:\n",
    "    def __init__(self,nome,sobrenome,cpf,sexo,endereco):\n",
    "        self.nome =nome.title()\n",
    "        self.sobrenome = sobrenome.title()\n",
    "        self.cpf = cpf\n",
    "        self.sexo = sexo\n",
    "        self.endereco = endereco\n",
    "\n",
    "\n",
    "    def __str__(self):\n",
    "        return f'{self.nome.ljust(20)} | CPF: {self.cpf.ljust(20)} | Sexo: {self.sexo.ljust(20)} | Endereço {self.endereco.ljust(20)}'\n",
    "    \n",
    "    def muda_endereco(self):\n",
    "        novo_endereco = input('Qual seu novo endereço?')\n",
    "        self.endereco = novo_endereco\n",
    "\n",
    "andre = ClienteBanco('andre','cabalo','123','Masculino','Rua Inverno')\n",
    "print(andre)\n",
    "andre.muda_endereco()\n",
    "#Print pos mudança de endereco\n",
    "print(andre)\n",
    "lohana = ClienteBanco('lohana','gandra','123','Feminino','Rua Jaime Atilio')\n",
    "aninha = ClienteBanco('ana','cabalo','123','Feminino','Rua Inverno')\n",
    "\n",
    "print(lohana)\n",
    "print(aninha)"
   ]
  }
 ],
 "metadata": {
  "kernelspec": {
   "display_name": "Python 3",
   "language": "python",
   "name": "python3"
  },
  "language_info": {
   "codemirror_mode": {
    "name": "ipython",
    "version": 3
   },
   "file_extension": ".py",
   "mimetype": "text/x-python",
   "name": "python",
   "nbconvert_exporter": "python",
   "pygments_lexer": "ipython3",
   "version": "3.12.1"
  }
 },
 "nbformat": 4,
 "nbformat_minor": 2
}
