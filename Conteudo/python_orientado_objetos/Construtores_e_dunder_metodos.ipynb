{
 "cells": [
  {
   "cell_type": "markdown",
   "metadata": {},
   "source": [
    "# Construtores em Python\n",
    "\n",
    "Sempre que criamos uma instancia de uma objeto ele puxa este método <code>_ _ init _ _</code>\n",
    "\n",
    "* Lembrando que método iniciamos com <code>def</code>\n",
    "\n",
    "* E para que cada objeto instanciado tenha seus proprios valores, usamos o <code>self</code> para indicar que cada atributo, pertence ao proprio objeto.\n",
    "\n",
    "* Curiosidade: Sabia que não precisamos obrigatóriamente usar o nome <code>SELF</code>? voce pode substituir ele por qualquer outro nome, mas por padrão recomendamos <code>SELF</code>\n",
    "\n",
    "Exemplo:"
   ]
  },
  {
   "cell_type": "code",
   "execution_count": 4,
   "metadata": {},
   "outputs": [
    {
     "name": "stdout",
     "output_type": "stream",
     "text": [
      "Fast Food\n",
      "{'nome': 'Pizza Place', 'categoria': 'Fast Food', 'status': 'Ativo'}\n"
     ]
    }
   ],
   "source": [
    "# Nome da classe \n",
    "class Restaurante:\n",
    "    # Método construtor da classe(com seus parametros/atributos) \n",
    "    def __init__(self, nome, categoria, status):\n",
    "        \n",
    "        # Indicando que acada atributo declarado pertence a esta instanci/objeto\n",
    "        self.nome = nome \n",
    "        self.categoria = categoria\n",
    "        self.status = status\n",
    "\n",
    "# Criando um objeto\n",
    "novo = Restaurante('Pizza Place', 'Fast Food', 'Ativo')\n",
    "\n",
    "print(novo.categoria)\n",
    "print(vars(novo))"
   ]
  },
  {
   "cell_type": "markdown",
   "metadata": {},
   "source": [
    "# Métodos Especiais - Dunder Methods\n",
    "\n",
    "Dunder Methods ou método especiais, são aquele com dois underlines antes e dois underlines depois da palavra.\n",
    "\n",
    "Existem inumeros métodos especiais no python, entre eles temos:\n",
    "\n",
    "<h1 style=\"color:springgreen\">__ STR __</h1>\n",
    "\n",
    "Método que nos permite mostar o objeto em formato de texto, ou seja, sem utilizar o <code>VARS</code>\n",
    "\n",
    "Ou seja, ao invés de demonstrar um endereço de memoria ao \"printar\" um objeto, ele nos demonstra o valor de seus atributos\n",
    "\n",
    "Lembrando de sempre adicionarmos o <code>self</code> e também o <code>return</code>, pois pretendemos retornar algo, no caso um texto(string)\n",
    "\n",
    "Exemplo:\n"
   ]
  },
  {
   "cell_type": "code",
   "execution_count": 8,
   "metadata": {},
   "outputs": [
    {
     "name": "stdout",
     "output_type": "stream",
     "text": [
      "Pizza Place | Fast Food | Ativo\n"
     ]
    }
   ],
   "source": [
    "# Nome da classe \n",
    "class Restaurante:\n",
    "    # Método construtor da classe(com seus parametros/atributos) \n",
    "    def __init__(self, nome, categoria, status):\n",
    "        \n",
    "        # Indicando que acada atributo declarado pertence a esta instanci/objeto\n",
    "        self.nome = nome \n",
    "        self.categoria = categoria\n",
    "        self.status = status\n",
    "\n",
    "\n",
    "    #Definindo um método especial\n",
    "    def __str__(self):\n",
    "        return f'{self.nome} | {self.categoria} | {self.status}'\n",
    "\n",
    "\n",
    "# Criando um objeto\n",
    "novo = Restaurante('Pizza Place', 'Fast Food', 'Ativo')\n",
    "\n",
    "print(novo)\n",
    "\n",
    "\n",
    "\n"
   ]
  },
  {
   "cell_type": "markdown",
   "metadata": {},
   "source": [
    "# Criando nossos proprios métodos\n",
    "\n",
    "Além do método que ja vem padrão do Python, podemos criar nossos proprios métodos, como por exemplo:"
   ]
  },
  {
   "cell_type": "code",
   "execution_count": 4,
   "metadata": {},
   "outputs": [
    {
     "name": "stdout",
     "output_type": "stream",
     "text": [
      "Pizza Place | Fast Food | True\n",
      "Super Pizza Pan | Fast Food | True\n"
     ]
    }
   ],
   "source": [
    "# Nome da classe \n",
    "class Restaurante:\n",
    "\n",
    "    #Lista que espera os novos restaurantes\n",
    "    restaurantes = []\n",
    "\n",
    "    # Método construtor da classe(com seus parametros/atributos) \n",
    "    def __init__(self, nome, categoria, status):\n",
    "        \n",
    "        # Indicando que acada atributo declarado pertence a esta instanci/objeto\n",
    "        self.nome = nome \n",
    "        self.categoria = categoria\n",
    "        self.status = status\n",
    "\n",
    "        #Após criar um restaurante, o incluiremos na lista de restaurantes\n",
    "        Restaurante.restaurantes.append(self)\n",
    "\n",
    "\n",
    "    #Definindo um método especial\n",
    "    def __str__(self):\n",
    "        return f'{self.nome} | {self.categoria} | {self.status}'\n",
    "    \n",
    "    #Definindo método que lista os restaurantes\n",
    "    def listar_restaurantes():\n",
    "        \n",
    "        for restaurante in Restaurante.restaurantes:\n",
    "            print(restaurante)\n",
    "\n",
    "\n",
    "\n",
    "# Criando um objeto\n",
    "novo = Restaurante('Pizza Place', 'Fast Food', True)\n",
    "novo = Restaurante('Super Pizza Pan', 'Fast Food', True)\n",
    "\n",
    "Restaurante.listar_restaurantes()\n",
    "\n"
   ]
  },
  {
   "cell_type": "code",
   "execution_count": 11,
   "metadata": {},
   "outputs": [
    {
     "name": "stdout",
     "output_type": "stream",
     "text": [
      "A música: Save Yours Tears, pertence ao artista The Weekend feat. Ariana Grande e tem 3.01 minutos de duração\n"
     ]
    }
   ],
   "source": [
    "class Musica:\n",
    "\n",
    "    def __init__(self,nome,artista,duracao):\n",
    "        self.nome = nome\n",
    "        self.artista = artista\n",
    "        self.duracao = round(duracao,2)\n",
    "\n",
    "    def __str__(self) -> str:\n",
    "        return f'A música: {self.nome}, pertence ao artista {self.artista} e tem {self.duracao} minutos de duração'\n",
    "        \n",
    "save_your_tears = Musica('Save Yours Tears','The Weekend feat. Ariana Grande', 3.01)\n",
    "\n",
    "print(save_your_tears)\n"
   ]
  },
  {
   "cell_type": "markdown",
   "metadata": {},
   "source": [
    "# Método Elegante onde apontamos o valor pré definido"
   ]
  },
  {
   "cell_type": "code",
   "execution_count": 14,
   "metadata": {},
   "outputs": [
    {
     "name": "stdout",
     "output_type": "stream",
     "text": [
      "Under Pressure | Queen & David Bowie | 248\n",
      "The Trooper | Iron Maiden | 245\n",
      "Hotel California | Eagles | 0\n"
     ]
    }
   ],
   "source": [
    "class Musica:\n",
    "    #Aqui predefinimos que duração, deve ser sempre iniciado em 0, no caso de omissão da caracteristica\n",
    "    def __init__(self, nome='', artista='', duracao=0):\n",
    "        self.nome = nome\n",
    "        self.artista = artista\n",
    "        self.duracao = duracao\n",
    "\n",
    "    def __str__(self):\n",
    "        return f'{self.nome} | {self.artista} | {self.duracao}'\n",
    "\n",
    "#Insirindo diretamente cada atributo, mesmo que fora da ordem\n",
    "musica1 = Musica(nome='Under Pressure', duracao=248, artista='Queen & David Bowie')\n",
    "musica2 = Musica(nome='The Trooper', artista='Iron Maiden', duracao=245)\n",
    "#Não atribuindo o valor, e pegando o valor default\n",
    "musica3 = Musica(nome='Hotel California', artista='Eagles')\n",
    "\n",
    "print(musica1)\n",
    "print(musica2)\n",
    "print(musica3)\n",
    "\n"
   ]
  },
  {
   "cell_type": "markdown",
   "metadata": {},
   "source": [
    "# Exercicios\n",
    "\n",
    "1-Implemente uma classe chamada Carro com os atributos básicos, como modelo, cor e ano. Crie uma instância dessa classe e atribua valores aos seus atributos.\n"
   ]
  },
  {
   "cell_type": "code",
   "execution_count": 15,
   "metadata": {},
   "outputs": [
    {
     "name": "stdout",
     "output_type": "stream",
     "text": [
      "{'cor': 'Branco', 'modelo': 'Up', 'ano': 2018}\n"
     ]
    }
   ],
   "source": [
    "# Criando classe carro \n",
    "class Carro:\n",
    "    modelo = ''\n",
    "    cor = ''\n",
    "    ano = ''\n",
    "\n",
    "# Instanciando um objeto da classe carro (vazio)\n",
    "up_branco = Carro()\n",
    "\n",
    "# Atribuindo valor ao parametros \n",
    "up_branco.cor = 'Branco'\n",
    "up_branco.modelo = 'Up'\n",
    "up_branco.ano = 2018\n",
    "\n",
    "# Printando os dados do objeto \n",
    "print(vars(up_branco))"
   ]
  },
  {
   "cell_type": "markdown",
   "metadata": {},
   "source": [
    "2-Crie uma classe chamada Restaurante com os atributos nome, categoria, ativo e crie mais 2 atributos. Instancie um restaurante e atribua valores aos seus atributos."
   ]
  },
  {
   "cell_type": "code",
   "execution_count": 17,
   "metadata": {},
   "outputs": [
    {
     "name": "stdout",
     "output_type": "stream",
     "text": [
      "Mandu Esfiharia | Esfiharia | True | 41359211847 | 5\n"
     ]
    }
   ],
   "source": [
    "class Restaurante:\n",
    "    nome = ''\n",
    "    categoria = ''\n",
    "    ativo = False\n",
    "    cnpj = ''\n",
    "    estrelas = ''\n",
    "\n",
    "mandu_esfiharia = Restaurante()\n",
    "\n",
    "mandu_esfiharia.nome = 'Mandu Esfiharia'\n",
    "mandu_esfiharia.categoria = 'Esfiharia'\n",
    "mandu_esfiharia.ativo = True\n",
    "mandu_esfiharia.cnpj = '41359211847'\n",
    "mandu_esfiharia.estrelas = '5'\n",
    "\n",
    "print(f'{mandu_esfiharia.nome} | {mandu_esfiharia.categoria} | {mandu_esfiharia.ativo} | {mandu_esfiharia.cnpj} | {mandu_esfiharia.estrelas}')"
   ]
  },
  {
   "cell_type": "markdown",
   "metadata": {},
   "source": [
    "3-Modifique a classe Restaurante adicionando um construtor que aceita nome e categoria como parâmetros e inicia ativo como False por padrão. Crie uma instância utilizando o construtor."
   ]
  },
  {
   "cell_type": "code",
   "execution_count": 22,
   "metadata": {},
   "outputs": [
    {
     "name": "stdout",
     "output_type": "stream",
     "text": [
      "Coco Bambu | Premium Alacarte | True\n"
     ]
    }
   ],
   "source": [
    "class Restaurante:\n",
    "    def __init__(self,nome, categoria, ativo = False):\n",
    "        self.nome = nome\n",
    "        self.categoria = categoria\n",
    "        self.ativo = ativo\n",
    "    \n",
    "coco_bambu = Restaurante('Coco Bambu', 'Premium Alacarte', True)\n",
    "\n",
    "print(f'{coco_bambu.nome} | {coco_bambu.categoria} | {coco_bambu.ativo}')\n",
    "    "
   ]
  },
  {
   "cell_type": "markdown",
   "metadata": {},
   "source": [
    "4-Adicione um método especial __str__ à classe Restaurante para que, ao imprimir uma instância, seja exibida uma mensagem formatada com o nome e a categoria. Exiba essa mensagem para uma instância de restaurante."
   ]
  },
  {
   "cell_type": "code",
   "execution_count": 24,
   "metadata": {},
   "outputs": [
    {
     "name": "stdout",
     "output_type": "stream",
     "text": [
      "O Coco Bambu é um restaurante do tipo Premium Alacarte e encontrasse no status aberto (True)\n"
     ]
    }
   ],
   "source": [
    "class Restaurante:\n",
    "    def __init__(self,nome, categoria, ativo = False):\n",
    "        self.nome = nome\n",
    "        self.categoria = categoria\n",
    "        self.ativo = ativo\n",
    "\n",
    "    def __str__(self) -> str:\n",
    "        return f'O {self.nome} é um restaurante do tipo {self.categoria} e encontrasse no status aberto ({self.ativo})'\n",
    "    \n",
    "coco_bambu = Restaurante('Coco Bambu', 'Premium Alacarte', True)\n",
    "\n",
    "print(coco_bambu)"
   ]
  },
  {
   "cell_type": "markdown",
   "metadata": {},
   "source": [
    "5-Crie uma classe chamada Cliente e pense em 4 atributos. Em seguida, instancie 3 objetos desta classe e atribua valores aos seus atributos através de um método construtor."
   ]
  },
  {
   "cell_type": "code",
   "execution_count": 30,
   "metadata": {},
   "outputs": [
    {
     "name": "stdout",
     "output_type": "stream",
     "text": [
      "Olá Andre Cabalo, seja bem vindo!\n",
      "Pude notar que seu cpf é : 413.592.118-47\n",
      "E que você se classifica como genêro Masculino e tambem possui 31 anos, correto?\n"
     ]
    }
   ],
   "source": [
    "class Cliente:\n",
    "    def __init__(self, nome, cpf, sexo, idade) -> None:\n",
    "        self.nome = nome\n",
    "        self.cpf = cpf\n",
    "        self.sexo = sexo\n",
    "        self.idade = idade\n",
    "\n",
    "    def __str__(self):\n",
    "        return f'Olá {self.nome}, seja bem vindo!\\nPude notar que seu cpf é : {self.cpf}\\nE que você se classifica como genêro {self.sexo} e tambem possui {self.idade} anos, correto?'\n",
    "    \n",
    "andre = Cliente('Andre Cabalo', '413.592.118-47', 'Masculino', '31')\n",
    "\n",
    "print(andre)"
   ]
  }
 ],
 "metadata": {
  "kernelspec": {
   "display_name": "Python 3",
   "language": "python",
   "name": "python3"
  },
  "language_info": {
   "codemirror_mode": {
    "name": "ipython",
    "version": 3
   },
   "file_extension": ".py",
   "mimetype": "text/x-python",
   "name": "python",
   "nbconvert_exporter": "python",
   "pygments_lexer": "ipython3",
   "version": "3.12.1"
  }
 },
 "nbformat": 4,
 "nbformat_minor": 2
}
