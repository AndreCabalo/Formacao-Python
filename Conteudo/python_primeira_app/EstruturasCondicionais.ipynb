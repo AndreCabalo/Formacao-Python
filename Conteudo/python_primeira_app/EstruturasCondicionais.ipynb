{
 "cells": [
  {
   "cell_type": "markdown",
   "metadata": {},
   "source": [
    "<h1 style=\"color:crimson\">Estruturas condicionais em Python:</h1>\n",
    "\n",
    "Estruturas condicionais são artifícios utilizados para controlar o fluxo de execução de programas, assim podemos determinar qual bloco de código será executado a partir de uma determinada condição. Na linguagem Python, podemos fazer isso utilizando as estruturas <code>if, elif e else</code>, como veremos a seguir."
   ]
  },
  {
   "cell_type": "markdown",
   "metadata": {},
   "source": [
    "<h1 style=\"color:springgreen\">IF</h1>\n",
    "\n",
    "Usamos o <code>if</code> em um programa quando pretendemos verificar se uma ação é verdadeira e executar o bloco de código contido em seu escopo.\n",
    "\n",
    "Fazemos isso da seguinte forma: "
   ]
  },
  {
   "cell_type": "code",
   "execution_count": 2,
   "metadata": {},
   "outputs": [
    {
     "name": "stdout",
     "output_type": "stream",
     "text": [
      "Você foi aprovado\n"
     ]
    }
   ],
   "source": [
    "media = 7\n",
    "if media > 6.9:\n",
    "    print('Você foi aprovado')"
   ]
  },
  {
   "cell_type": "markdown",
   "metadata": {},
   "source": [
    "<h1 style=\"color:springgreen\">ELSE</h1>\n",
    "\n",
    "Se Usamos o <code>if/else</code> em conjunto, faremos com que uma das ações seja executada.\n",
    "\n",
    "Caso o <code>if</code> seja atendido ele executa o bloco dentro do <code>if</code>\n",
    "\n",
    "Caso não seja atendido ele executa o bloco <code>else</code>\n",
    "\n",
    "Fazemos isso da seguinte forma: "
   ]
  },
  {
   "cell_type": "code",
   "execution_count": 4,
   "metadata": {},
   "outputs": [
    {
     "name": "stdout",
     "output_type": "stream",
     "text": [
      "Reprovado\n"
     ]
    }
   ],
   "source": [
    "media = 5\n",
    "if media > 6:\n",
    "    print('Aprovado')\n",
    "else:\n",
    "    print('Reprovado')"
   ]
  },
  {
   "cell_type": "markdown",
   "metadata": {},
   "source": [
    "<h1 style=\"color:springgreen\">ELIF</h1>\n",
    "\n",
    "Usamos o <code>elif</code> em conjunto com os <code>if, else</code>, quando queremos verificar mais de uma condição.\n",
    "\n",
    "Por exemplo queremos verifica se um aluno ficou com a média maior que 5, caso sim ele tera direito a recuperação, caso menor que 5 será reprovado e maior que 6, será aprovado:\n"
   ]
  },
  {
   "cell_type": "code",
   "execution_count": 10,
   "metadata": {},
   "outputs": [
    {
     "name": "stdout",
     "output_type": "stream",
     "text": [
      "Você fará recuperação\n"
     ]
    }
   ],
   "source": [
    "media = 6\n",
    "\n",
    "if media < 5:\n",
    "    print('Reprovado')\n",
    "elif media > 5 and media < 7:\n",
    "    print('Você fará recuperação')\n",
    "else:\n",
    "    print('Você foi aprovado, parábens')"
   ]
  }
 ],
 "metadata": {
  "kernelspec": {
   "display_name": "Python 3",
   "language": "python",
   "name": "python3"
  },
  "language_info": {
   "codemirror_mode": {
    "name": "ipython",
    "version": 3
   },
   "file_extension": ".py",
   "mimetype": "text/x-python",
   "name": "python",
   "nbconvert_exporter": "python",
   "pygments_lexer": "ipython3",
   "version": "3.11.4"
  }
 },
 "nbformat": 4,
 "nbformat_minor": 2
}
