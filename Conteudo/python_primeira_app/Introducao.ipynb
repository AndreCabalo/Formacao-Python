{
 "cells": [
  {
   "cell_type": "markdown",
   "metadata": {},
   "source": [
    "<h1 style=\"color:crimson\">Python</h1>\n",
    "\n",
    "E suas vantagens:\n",
    "  - <b style=\"color:crimson\">Linguagem interpretada</b> ( oque significa que ela não precisa passar pelo processo de compilação)\n",
    "  - <b style=\"color:crimson\">Sintaxe simples</b>, por se tratar de uma linguagem de alto nível.\n",
    "  - <b style=\"color:crimson\">Multiparadigma</b>, sendo possivel programar em vários paradigmas como:\n",
    "  \n",
    "    - <b style=\"color:tomato\">Procedural</b>, com instruções passadas ao computador na sequência em que devem ser executadas\n",
    "    - <b style=\"color:tomato\">Funcional</b>, que consiste em programa construídos aplicando e compondo funções\n",
    "    - <b style=\"color:tomato\">Orientação a objetos</b>, que traz a perspectiva do mundo real, tornando os programas fáceis de entender por causa desta relação\n",
    "    "
   ]
  },
  {
   "cell_type": "markdown",
   "metadata": {},
   "source": [
    "<h1 style=\"color:springgreen\">Historia do Python</h1>\n",
    "\n",
    "- Desenvolvido em 1980\n",
    "- Pelo programador holandês Guido Van Rossum\n",
    "- Primeiro versão foi lançada em 1991"
   ]
  },
  {
   "cell_type": "markdown",
   "metadata": {},
   "source": [
    "<h1 style=\"color:crimson\">Principais áreas de utilização do Python</h1>\n",
    "\n",
    "* Análise de dados (51%)\n",
    "* Aprendizado de máquina(36%)\n",
    "* Desenvolvimento Web (45%)\n",
    "* DevOps (36%)\n",
    "\n",
    "* Não sei porque, a soma da mais de 100%, mas a fonte é Alura! então segue.."
   ]
  },
  {
   "cell_type": "markdown",
   "metadata": {},
   "source": [
    "<h1 style=\"color:springgreen\">Motivos para aprender Python</h1>\n",
    "\n",
    "- Sintaxe Simples\n",
    "- Multiplataforma e de código aberto\n",
    "- Versalidade\n",
    "- Comunidade fiel e ativa\n",
    "- Tem sido utilizada por grandes empresas\n",
    "- É a mais popular na Ciência de Dados\n",
    "- Alta demanda no mercado de trabalho\n"
   ]
  },
  {
   "cell_type": "markdown",
   "metadata": {},
   "source": [
    "<h1 style=\"color:darkorange\"> Jupyter notebook (formato .ipynb)</h1>\n",
    " Podemos colocar textos com markdown, colocar linhas de codigo e até mesmo inserir arquivos dentro de um arquivo Jupyter notebook, até mesmo criar interfaces gráficas"
   ]
  },
  {
   "cell_type": "markdown",
   "metadata": {},
   "source": []
  }
 ],
 "metadata": {
  "language_info": {
   "name": "python"
  }
 },
 "nbformat": 4,
 "nbformat_minor": 2
}
