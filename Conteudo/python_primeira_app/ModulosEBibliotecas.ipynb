{
 "cells": [
  {
   "cell_type": "markdown",
   "metadata": {},
   "source": [
    "<h1 style=\"color:crimson\">Módulos e bibliotecas em Python</h1>\n",
    "\n",
    "Segundo a documentação da linguagem: <code>\"Um módulo é um arquivo Python contendo definições e instruções\"</code>\n",
    "\n",
    "O <code>nome do arquivo é o módulo com o sufixo</code> <code>.py</code> adicionado\n",
    "\n",
    "Dentro de um módulo, o nome do módulo(como uma string) está disponivel na varíavel <code>global__name__</code>\n",
    "\n",
    "O <code>conjunto desses módulos</code> (arquivos) pode ser chamado de <code>pacote ou biblioteca</code>. Já os pacotes, ainda segundo a documentação:\n",
    "\n",
    "*\"...........São uma maneira de estruturar namespaces para módulos Python utilizando a sintaxe de ‘nomes pontuados’ (dotted names).........\"*\n",
    "\n",
    "Um <code>namespace</code> é uma <code>coleção de nomes simbólicos</code> , nomeamos as funções de acordo com sua função\n",
    "\n",
    "Exemplo, criaremos um módulo que representa um círculo e o chamamos de circulo.py:"
   ]
  },
  {
   "cell_type": "code",
   "execution_count": 1,
   "metadata": {},
   "outputs": [],
   "source": [
    "#Módulo que representa um círculo\n",
    "Pi=3.14159\n",
    "\n",
    "def area(raio):\n",
    "    return Pi*(raio **2)\n",
    "\n",
    "def comprimento_circunferencia(raio):\n",
    "    return 2*Pi*raio"
   ]
  },
  {
   "cell_type": "markdown",
   "metadata": {},
   "source": [
    "Para chamarmos esse módulo a cima, devemos <code>importar</code> seus dados para outro arquivo da seguinte forma"
   ]
  },
  {
   "cell_type": "code",
   "execution_count": 2,
   "metadata": {},
   "outputs": [
    {
     "name": "stdout",
     "output_type": "stream",
     "text": [
      "3.14159\n",
      "78.53975\n",
      "31.4159\n"
     ]
    }
   ],
   "source": [
    "import circulo\n",
    "\n",
    "print(circulo.Pi)\n",
    "print(circulo.area(5))\n",
    "print(circulo.comprimento_circunferencia(5))"
   ]
  },
  {
   "cell_type": "markdown",
   "metadata": {},
   "source": [
    "<h1 style=\"color:red\">O PythonPath</h1>\n",
    "\n",
    "Quando uma instrução <b style=\"color:brown\">“import”</b> é executada, o interpretador primeiramente irá verificar se o módulo requerido está no diretório atual. Se estiver, vai importá-lo como vimos no exemplo. Caso contrário, a busca se estenderá ao <b style=\"color:brown\">PYTHONPATH</b>.\n",
    "\n",
    "<b style=\"color:brown\">PYTHONPATH</b> é uma <b style=\"color:brown\">lista de diretório</b> na qual o interpretador Python irá buscar por módulos para importação"
   ]
  },
  {
   "cell_type": "markdown",
   "metadata": {},
   "source": [
    "<h1 style=\"color:springgreen\">PyPI</h1>\n",
    "\n",
    "O Python Package Index, abreviado como PyPI é o <code>respositório de software oficial de terceiros para Python</code>\n",
    "\n",
    "De acordo com a documentação oficial:\n",
    "<b style=\"color:royalblue\">\n",
    "\n",
    "*“PyPI é o Índice de Pacotes padrão para a comunidade Python. Está aberto a todos os desenvolvedores Python para consumir e distribuir suas distribuições.”*\n",
    "</b>\n",
    "\n",
    "Mais de <b style=\"color:royalblue\">113.000 pacotes Python podem ser acesado por meio do PyPI</b>\n",
    "\n",
    "O PyPI, primeiramente, hospeda pacotes Python na forma de arquivos pré-compilados e funciona como um índice. Assim ele permite que os usuários pesquisem e criem pacotes por meio de palavras-chave ou por filtros que ficam disponíveis com licença de software livre\n"
   ]
  }
 ],
 "metadata": {
  "kernelspec": {
   "display_name": "Python 3",
   "language": "python",
   "name": "python3"
  },
  "language_info": {
   "codemirror_mode": {
    "name": "ipython",
    "version": 3
   },
   "file_extension": ".py",
   "mimetype": "text/x-python",
   "name": "python",
   "nbconvert_exporter": "python",
   "pygments_lexer": "ipython3",
   "version": "3.11.4"
  }
 },
 "nbformat": 4,
 "nbformat_minor": 2
}
