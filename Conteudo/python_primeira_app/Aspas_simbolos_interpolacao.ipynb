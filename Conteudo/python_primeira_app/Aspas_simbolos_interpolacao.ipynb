{
 "cells": [
  {
   "cell_type": "markdown",
   "metadata": {},
   "source": [
    "<h1 style=\"color:crimson\">Aspas no Python</h1>\n",
    "\n",
    "Temos 3 tipos de aspas:\n",
    "- Unica ('texto')  - String comum\n",
    "- Dupla (\"Texto\")  - String comum\n",
    "- Tripla (\"\"\"Texto\"\"\") - String + qualquer quebra de linha que tiver, antes ou depois do texto"
   ]
  },
  {
   "cell_type": "code",
   "execution_count": 6,
   "metadata": {},
   "outputs": [
    {
     "name": "stdout",
     "output_type": "stream",
     "text": [
      "Texto\n",
      "Texto\n",
      "\n",
      "Texto\n"
     ]
    }
   ],
   "source": [
    "print('Texto')\n",
    "print(\"Texto\")\n",
    "print(\"\"\"\n",
    "Texto\"\"\")\n"
   ]
  },
  {
   "cell_type": "markdown",
   "metadata": {},
   "source": [
    "<h1 style=\"color:crimson\">Simbolos</h1>\n",
    "\n",
    "Para buscar simbolos, podemos usar o site <code>fsymbols.com</code>\n",
    "\n",
    "Acessar a aba \"Letras\" > Inserir o texto que quisermos e pegar este texto com copy e inserir ele em um print com 3 aspas:"
   ]
  },
  {
   "cell_type": "code",
   "execution_count": 8,
   "metadata": {},
   "outputs": [
    {
     "name": "stdout",
     "output_type": "stream",
     "text": [
      "𝒮𝒶𝒷ℴ𝓇 ℰ𝓍𝓅𝓇ℯ𝓈𝓈\n"
     ]
    }
   ],
   "source": [
    "print(\"𝒮𝒶𝒷ℴ𝓇 ℰ𝓍𝓅𝓇ℯ𝓈𝓈\")"
   ]
  },
  {
   "cell_type": "markdown",
   "metadata": {},
   "source": [
    "<h1 style=\"color:crimson\">Interpolações</h1>\n",
    "\n",
    "Facilita a junção de variaveis dentro de uma string, exemplo da sintase:\n",
    "\n",
    "Junção de string + variavel\n",
    "*f'String {nomeVariavel}'*\n",
    "\n",
    "Definindo as casas decimais:\n",
    "*f'String{nomeVariavelNumerica:.2f}*"
   ]
  },
  {
   "cell_type": "code",
   "execution_count": null,
   "metadata": {},
   "outputs": [],
   "source": [
    "# Agora pediremos um input\n",
    "opcao_escolhida = input('Escolha uma opção: ')\n",
    "print(f'Você escolheu a opção: {opcao_escolhida}')"
   ]
  },
  {
   "cell_type": "markdown",
   "metadata": {},
   "source": [
    "<h2>Exercicios</h2>\n",
    "\n",
    "1 - Imprima a frase: Python na Escola de Programação da Alura:"
   ]
  },
  {
   "cell_type": "code",
   "execution_count": 9,
   "metadata": {},
   "outputs": [
    {
     "name": "stdout",
     "output_type": "stream",
     "text": [
      "Python na Escola de Programação Alura\n"
     ]
    }
   ],
   "source": [
    "print('Python na Escola de Programação Alura')"
   ]
  },
  {
   "cell_type": "markdown",
   "metadata": {},
   "source": [
    "2 - Imprima a frase: Meu nome é {nome} e tenho {idade} anos em que nome e idade precisam ser valores armazenados em variáveis."
   ]
  },
  {
   "cell_type": "code",
   "execution_count": 10,
   "metadata": {},
   "outputs": [
    {
     "name": "stdout",
     "output_type": "stream",
     "text": [
      "Meu nome é Andre e tenho 31 anos\n"
     ]
    }
   ],
   "source": [
    "nome = 'Andre'\n",
    "idade = 31\n",
    "print(f'Meu nome é {nome} e tenho {idade} anos')"
   ]
  },
  {
   "cell_type": "markdown",
   "metadata": {},
   "source": [
    "3 - Imprima a palavra: ‘ALURA’ de modo que cada letra fique em uma linha, como mostrado a seguir:"
   ]
  },
  {
   "cell_type": "code",
   "execution_count": 11,
   "metadata": {},
   "outputs": [
    {
     "name": "stdout",
     "output_type": "stream",
     "text": [
      "A\n",
      "l\n",
      "u\n",
      "r\n",
      "a\n"
     ]
    }
   ],
   "source": [
    "palavra = 'Alura'\n",
    "\n",
    "for letra in palavra:\n",
    "    print(letra)"
   ]
  },
  {
   "cell_type": "markdown",
   "metadata": {},
   "source": [
    "4 - Imprima a frase: O valor arredondado de pi é: {pi_arredondado} em que o valor de pi precisa ser armazenado em uma variável e arredondado para apenas duas casas decimais. Para facilitar, utilize:"
   ]
  },
  {
   "cell_type": "code",
   "execution_count": 13,
   "metadata": {},
   "outputs": [
    {
     "name": "stdout",
     "output_type": "stream",
     "text": [
      "o valor arredondado de pi é: 3.14\n"
     ]
    }
   ],
   "source": [
    "pi = 3.14159\n",
    "\n",
    "print(f'o valor arredondado de pi é: {pi:.2f}')"
   ]
  },
  {
   "cell_type": "markdown",
   "metadata": {},
   "source": [
    "<h1>Separador sep </h1>\n",
    "\n",
    "Em um print como por exemplo:\n",
    "\n",
    "    print('Andre','Cabalo')\n",
    "\n",
    "O sep é a virgula, que indica uma quebra de linha"
   ]
  },
  {
   "cell_type": "markdown",
   "metadata": {},
   "source": [
    "<h1>Inputs</h1>\n",
    "\n",
    "- Inputs por padrão são str\n",
    "- Caso queiramos converter as str por int, podemos fazer isso direto no input da seguinte forma:"
   ]
  },
  {
   "cell_type": "code",
   "execution_count": 16,
   "metadata": {},
   "outputs": [
    {
     "name": "stdout",
     "output_type": "stream",
     "text": [
      "1\n"
     ]
    }
   ],
   "source": [
    "opcao_escolhida = int(input('Escolha uma opção: '))\n",
    "print(opcao_escolhida)"
   ]
  },
  {
   "cell_type": "markdown",
   "metadata": {},
   "source": [
    "<h1 style=\"color:springgreen\">Funções e Imports</h1>\n",
    "\n",
    "Existem funções embutidas no Python, entre elas temos:\n",
    "<code>\n",
    "print()\n",
    "input()\n",
    "</code>\n",
    "\n",
    "Além disso o Python possui algumas bibliotecas nativas, para que possamos utilizar, entre elas:\n",
    "\n",
    "Biblioteca <code>os</code>, na qual possui vários metodos, entre eles:\n",
    "- No windows\n",
    "    <code>os.system('cls')</code>, no qual limpa a tela\n",
    "- No mac\n",
    "    <code>os.system('clear')</code>, no qual limpa a tela\n",
    "\n",
    "Na qual podemos usar da seguinte maneira:"
   ]
  },
  {
   "cell_type": "code",
   "execution_count": null,
   "metadata": {},
   "outputs": [],
   "source": [
    "import os\n",
    "\n",
    "#Limpe a tela\n",
    "os.system('cls')"
   ]
  },
  {
   "cell_type": "markdown",
   "metadata": {},
   "source": [
    "<h1 style=\"color:crimson\">Criando uma função</h1>\n",
    "\n",
    "Para criar uma função usamor o prefixo <code>def + nome_da_funcao():</code>\n",
    "\n",
    "Por exemplo:"
   ]
  },
  {
   "cell_type": "code",
   "execution_count": 1,
   "metadata": {},
   "outputs": [],
   "source": [
    "# Criando função\n",
    "def finalizar_app():\n",
    "    # Comando para limpar o terminal\n",
    "    os.system('cls')\n",
    "    print('Fechando aplicativo! volte sempre')"
   ]
  },
  {
   "cell_type": "markdown",
   "metadata": {},
   "source": [
    "<h1 style=\"color:crimson\">Chamando uma função</h1>\n",
    "\n",
    "Para chamar um função é simples, basta passsar o nome da função + ()\n",
    "\n",
    "exemplo:"
   ]
  },
  {
   "cell_type": "code",
   "execution_count": 4,
   "metadata": {},
   "outputs": [
    {
     "name": "stdout",
     "output_type": "stream",
     "text": [
      "Fechando aplicativo! volte sempre\n"
     ]
    }
   ],
   "source": [
    "import os\n",
    "\n",
    "#chamando função\n",
    "finalizar_app()"
   ]
  },
  {
   "cell_type": "markdown",
   "metadata": {},
   "source": [
    "<h1 style=\"color:purple\">Descobrindo se estamos no arquivo principal ou não</h1>\n",
    "\n",
    "Para descobrir se estamos ou não no arquivo principal, existe um variavel chamada <code>_ _ name _ _</code> que sempre que é principal é atribuido a ela o valor <code> ' _ _ main _ _'</code>\n",
    "\n",
    "Por tanto podemos testar esta condição, se _ _ name _ _ for igual a '_ _ main _ _' , estaremos no arquivo principal"
   ]
  },
  {
   "cell_type": "code",
   "execution_count": null,
   "metadata": {},
   "outputs": [],
   "source": [
    "#método que chama todos outros métodos\n",
    "def main():\n",
    "# exibir_nome_do_programa()\n",
    "#     exibir_opcoes()\n",
    "#     escolher_opcao()    \n",
    "\n",
    "#condição que verifica se estamos na main, se estiver chama método main()\n",
    "if __name__ == '__main__':\n",
    "    main()  "
   ]
  },
  {
   "cell_type": "markdown",
   "metadata": {},
   "source": [
    "<h1 style=\"color:crimson\">Sintaxe do Match (switch do python)</h1>\n",
    "\n",
    "Similar ao switch do java\n",
    "\n",
    "O Match facilita o comum processo de <code>if elif else</code>\n",
    "\n",
    "Exemplo da estrutura:\n",
    "\n",
    "<code>\n",
    "\n",
    "match expressão:\n",
    "\n",
    "    case padrão_1:\n",
    "        # Código a ser executado se expressão corresponder a padrão_1\n",
    "    case padrão_2:\n",
    "        # Código a ser executado se expressão corresponder a padrão_2\n",
    "    # ... outros casos ...\n",
    "    case _:\n",
    "        # Código a ser executado se nenhum dos padrões anteriores corresponder. Isso é útil para tratar casos não específicos.\n",
    "\n",
    "</code>\n",
    "\n",
    "Exemplo com familia IF, ELIF E ELSE:"
   ]
  },
  {
   "cell_type": "code",
   "execution_count": null,
   "metadata": {},
   "outputs": [],
   "source": [
    "opcao_escolhida = int(input('Escolha uma opção: '))\n",
    "if opcao_escolhida == 1:\n",
    "    print('Adicionar restaurante')\n",
    "elif opcao_escolhida == 2:\n",
    "    print('Listar restaurantes')\n",
    "elif opcao_escolhida == 3:\n",
    "    print('Ativar restaurante')\n",
    "elif opcao_escolhida == 4:\n",
    "    print('Finalizar app')\n",
    "else:\n",
    "    print('Opção inválida!')"
   ]
  },
  {
   "cell_type": "markdown",
   "metadata": {},
   "source": [
    "Exemplo com Math:"
   ]
  },
  {
   "cell_type": "code",
   "execution_count": 5,
   "metadata": {},
   "outputs": [
    {
     "name": "stdout",
     "output_type": "stream",
     "text": [
      "Ativar restaurante\n"
     ]
    }
   ],
   "source": [
    "opcao_escolhida = int(input('Escolha uma opção: '))\n",
    "match opcao_escolhida:\n",
    "    case 1:\n",
    "        print('Adicionar restaurante')\n",
    "    case 2:\n",
    "        print('Listar restaurantes')\n",
    "    case 3:\n",
    "        print('Ativar restaurante')\n",
    "    case 4:\n",
    "        print('Finalizar app')\n",
    "#note que este ultimo é um padrão coringa que responde qualquer valor\n",
    "    case _:\n",
    "        print('Opção inválida!')\n"
   ]
  },
  {
   "cell_type": "markdown",
   "metadata": {},
   "source": []
  },
  {
   "cell_type": "markdown",
   "metadata": {},
   "source": [
    "<h1>Exercicios</h1>\n",
    "\n",
    "1 - Solicite ao usuário que insira um número e, em seguida, use uma estrutura if else para determinar se o número é par ou ímpar."
   ]
  },
  {
   "cell_type": "code",
   "execution_count": 14,
   "metadata": {},
   "outputs": [
    {
     "name": "stdout",
     "output_type": "stream",
     "text": [
      "impar\n"
     ]
    }
   ],
   "source": [
    "numero = int(input('Insira um número'))\n",
    "\n",
    "if numero%2 == 0:\n",
    "    print('numero par')\n",
    "else:\n",
    "    print('impar')"
   ]
  },
  {
   "cell_type": "markdown",
   "metadata": {},
   "source": [
    "2 - Pergunte ao usuário sua idade e, com base nisso, use uma estrutura if elif else para classificar a idade em categorias de acordo com as seguintes condições:\n",
    "\n",
    "Criança: 0 a 12 anos;\n",
    "\n",
    "Adolescente: 13 a 18 anos;\n",
    "\n",
    "Adulto: acima de 18 anos"
   ]
  },
  {
   "cell_type": "code",
   "execution_count": 19,
   "metadata": {},
   "outputs": [
    {
     "name": "stdout",
     "output_type": "stream",
     "text": [
      "Você é adulto veio\n"
     ]
    }
   ],
   "source": [
    "idade = int(input('Qual sua idade?'))\n",
    "\n",
    "if idade >= 0 and idade <= 12:\n",
    "    print('voce é criança')\n",
    "elif idade >= 13 and idade <= 18:\n",
    "    print('Você é adolescente')\n",
    "else:\n",
    "    print('Você é adulto veio')"
   ]
  },
  {
   "cell_type": "markdown",
   "metadata": {},
   "source": [
    "3 - Solicite um nome de usuário e uma senha e use uma estrutura if else para verificar se o nome de usuário e a senha fornecidos correspondem aos valores esperados determinados por você."
   ]
  },
  {
   "cell_type": "code",
   "execution_count": 21,
   "metadata": {},
   "outputs": [
    {
     "name": "stdout",
     "output_type": "stream",
     "text": [
      "certa resposta!\n"
     ]
    }
   ],
   "source": [
    "nome = input('Qual seu nome?')\n",
    "senha = input('Passe uma senha!')\n",
    "\n",
    "if nome == 'andre' and senha == '123':\n",
    "    print('certa resposta!')\n",
    "else:\n",
    "    print('Hacker safado, suma daqui!')"
   ]
  },
  {
   "cell_type": "markdown",
   "metadata": {},
   "source": [
    "4 - Solicite ao usuário as coordenadas (x, y) de um ponto qualquer e utilize uma estrutura if elif else para determinar em qual quadrante do plano cartesiano o ponto se encontra de acordo com as seguintes condições:\n",
    "\n",
    "Primeiro Quadrante: os valores de x e y devem ser maiores que zero;\n",
    "\n",
    "Segundo Quadrante: o valor de x é menor que zero e o valor de y é maior que zero;\n",
    "\n",
    "Terceiro Quadrante: os valores de x e y devem ser menores que zero;\n",
    "\n",
    "Quarto Quadrante: o valor de x é maior que zero e o valor de y é menor que zero;\n",
    "\n",
    "Caso contrário: o ponto está localizado no eixo ou origem."
   ]
  },
  {
   "cell_type": "code",
   "execution_count": 26,
   "metadata": {},
   "outputs": [
    {
     "name": "stdout",
     "output_type": "stream",
     "text": [
      "Primeiro quadrante\n"
     ]
    }
   ],
   "source": [
    "x = int(input('Passe uma coordenada x : '))\n",
    "y = int(input('Passe uma coordenada y : '))\n",
    "\n",
    "if x > 0 and y > 0:\n",
    "    print('Primeiro quadrante')\n",
    "elif x < 0 and y > 0:\n",
    "    print('Segundo quadrante')\n",
    "elif x < 0 and y < 0:\n",
    "    print('Terceiro quadrante')\n",
    "elif x > 0 and y < 0:\n",
    "    print('Quarto quadrante')\n",
    "else:\n",
    "    print('Eixo ou origem')\n"
   ]
  }
 ],
 "metadata": {
  "kernelspec": {
   "display_name": "Python 3",
   "language": "python",
   "name": "python3"
  },
  "language_info": {
   "codemirror_mode": {
    "name": "ipython",
    "version": 3
   },
   "file_extension": ".py",
   "mimetype": "text/x-python",
   "name": "python",
   "nbconvert_exporter": "python",
   "pygments_lexer": "ipython3",
   "version": "3.11.4"
  }
 },
 "nbformat": 4,
 "nbformat_minor": 2
}
