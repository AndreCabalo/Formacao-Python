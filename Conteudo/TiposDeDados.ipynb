{
 "cells": [
  {
   "cell_type": "markdown",
   "metadata": {},
   "source": [
    "<h1 style=\"color:crimson\">Tipos de dados em Python</h1>\n",
    "\n",
    "Primeiramente lembrando que Python é uma linguagem dinamicamente tipada, ou seja não é necessário declarar o tipo de variável\n",
    "\n",
    "Tipos de dados:\n",
    "\n",
    "|<b style=\"color:crimson\"><b style=\"color:crimson\">Tipo de dado| <b style=\"color:crimson\">Nome técnico| <b style=\"color:crimson\">Exemplo|\n",
    "|------------|-------------|--------|\n",
    "|Inteiro     | int         | 1      |\n",
    "|Flutuante   | float       | 1.4    |\n",
    "|Complexo    | complex     | 1w     |\n",
    "|String      | str         | Hello Word |\n",
    "|Boolean     | bool        | true/false    |\n",
    "|List        | list        | ['Alexa','Jackeline','Beatriz','Patricia','Lohana'] |\n",
    "|Tupla (imutáveis)      | tuple        | (1,2,3,4,5,6,7,8,9,10)|\n",
    "|Dictinonary (chave:valor) | dic      | {'Lohana':10, 'Jackeline':8, 'Beatriz':9}|\n",
    "\n"
   ]
  },
  {
   "cell_type": "markdown",
   "metadata": {},
   "source": [
    "<h3 style=\"color:crimson\">Como mudar o tipo do dado em Python?</h3>\n",
    "\n",
    "Para isso é simples, basta passar o comando:\n",
    "\n",
    "        nomeNovoTipo(variavelQueArmazenaODado)"
   ]
  },
  {
   "cell_type": "code",
   "execution_count": 9,
   "metadata": {},
   "outputs": [
    {
     "name": "stdout",
     "output_type": "stream",
     "text": [
      "A Classe atual é: <class 'float'>\n",
      "O novo tipo de classe agora é : <class 'str'>\n",
      "O valor de altura é: 1.55\n",
      "A Classe atual é : <class 'int'>\n",
      "O novo tipo de classe agora é : <class 'float'>\n",
      "A idade é :18.0\n"
     ]
    }
   ],
   "source": [
    "# ---------------------------Float para string------------------\n",
    "#Antes de converter\n",
    "altura=1.55\n",
    "print(f'A Classe atual é: {type(altura)}')\n",
    "\n",
    "#Fazendo a conversão\n",
    "altura = str(altura)\n",
    "\n",
    "#Depois da conversão\n",
    "print(f'O novo tipo de classe agora é : {type(altura)}' )\n",
    "print(f'O valor de altura é: {altura}')\n",
    "\n",
    "# ---------------------------Int para float------------------\n",
    "#Antes de converter\n",
    "idade=18\n",
    "print(f'A Classe atual é : {type(idade)}')\n",
    "\n",
    "#Fazendo a conversão\n",
    "idade = float(idade)\n",
    "\n",
    "#Depois da conversão\n",
    "print(f'O novo tipo de classe agora é : {type(idade)}')\n",
    "print(f'A idade é :{idade}')"
   ]
  }
 ],
 "metadata": {
  "kernelspec": {
   "display_name": "Python 3",
   "language": "python",
   "name": "python3"
  },
  "language_info": {
   "codemirror_mode": {
    "name": "ipython",
    "version": 3
   },
   "file_extension": ".py",
   "mimetype": "text/x-python",
   "name": "python",
   "nbconvert_exporter": "python",
   "pygments_lexer": "ipython3",
   "version": "3.11.4"
  }
 },
 "nbformat": 4,
 "nbformat_minor": 2
}
