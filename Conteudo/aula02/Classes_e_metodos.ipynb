{
 "cells": [
  {
   "cell_type": "markdown",
   "metadata": {},
   "source": [
    "<h1 style=\"color:springgreen\">Orientação a objeto ou OO<h1>\n",
    "\n",
    "# Oque é uma classe?\n",
    "\n",
    "Uma abstração do mundo real em código onde unimos uma sequência de atributo, que juntos formam uma classe\n",
    "\n",
    "Por exemplo:\n",
    "\n",
    "Uma Classe carro, tem os seguintes atributos:\n",
    "\n",
    "    Rodas\n",
    "    Motor\n",
    "    Assentos\n",
    "    Chassi\n",
    "    Placa\n",
    "\n",
    "\n",
    "Observe que nesse caso não criamos um construtor complexo e nem mesmo a obrigatóriedade dos atributos.\n",
    "\n",
    "Para criar um objeto, como por exemplo um carro Onix, precisamos instanciar uma classe da seguinte maneira:"
   ]
  },
  {
   "cell_type": "code",
   "execution_count": null,
   "metadata": {},
   "outputs": [],
   "source": [
    "# Criando uma classe \n",
    "class Restaurante:\n",
    "\n",
    "    nome = ''\n",
    "    categoria = ''\n",
    "    ativo = False\n",
    "\n",
    "# Instanciando uma classe (criando um objeto) \n",
    "restaurante_praca = Restaurante()\n",
    "\n",
    "#Atribuindo valor a seus parametros\n",
    "restaurante_praca.nome = 'Praça'\n",
    "restaurante_praca.categoria = 'Gourmet'\n",
    "restaurante_praca.ativo = False"
   ]
  },
  {
   "cell_type": "markdown",
   "metadata": {},
   "source": [
    "# Método DIR - que mostra todos atributos de uma classe\n",
    "\n",
    "Muito utilizado, quando desconhecemos os métodos e atributos de uma classe e desejamos descobrir quais são\n",
    "\n",
    "Por exemplo:"
   ]
  },
  {
   "cell_type": "code",
   "execution_count": 2,
   "metadata": {},
   "outputs": [
    {
     "name": "stdout",
     "output_type": "stream",
     "text": [
      "['__class__', '__delattr__', '__dict__', '__dir__', '__doc__', '__eq__', '__format__', '__ge__', '__getattribute__', '__getstate__', '__gt__', '__hash__', '__init__', '__init_subclass__', '__le__', '__lt__', '__module__', '__ne__', '__new__', '__reduce__', '__reduce_ex__', '__repr__', '__setattr__', '__sizeof__', '__str__', '__subclasshook__', '__weakref__', 'ativo', 'categoria', 'nome']\n"
     ]
    }
   ],
   "source": [
    "# Criando uma classe \n",
    "class Restaurante:\n",
    "\n",
    "    nome = ''\n",
    "    categoria = ''\n",
    "    ativo = False\n",
    "\n",
    "# Instanciando uma classe (criando um objeto) \n",
    "restaurante_praca = Restaurante()\n",
    "\n",
    "#Atribuindo valor a seus parametros\n",
    "restaurante_praca.nome = 'Praça'\n",
    "restaurante_praca.categoria = 'Gourmet'\n",
    "restaurante_praca.ativo = False\n",
    "\n",
    "# ---------------------------------------\n",
    "#Função DIR - Onde exibe os atributos do objeto\n",
    "print(dir(restaurante_praca))"
   ]
  },
  {
   "cell_type": "markdown",
   "metadata": {},
   "source": [
    "# Método VARS - Exibe um dicionário com os atributos\n",
    "\n",
    "Usado para fazer a leitura dos atributos de um objeto\n",
    "\n",
    "Por exemplo:"
   ]
  },
  {
   "cell_type": "code",
   "execution_count": 3,
   "metadata": {},
   "outputs": [
    {
     "name": "stdout",
     "output_type": "stream",
     "text": [
      "{'nome': 'Praça', 'categoria': 'Gourmet', 'ativo': False}\n"
     ]
    }
   ],
   "source": [
    "# Criando uma classe \n",
    "class Restaurante:\n",
    "\n",
    "    nome = ''\n",
    "    categoria = ''\n",
    "    ativo = False\n",
    "\n",
    "# Instanciando uma classe (criando um objeto) \n",
    "restaurante_praca = Restaurante()\n",
    "\n",
    "#Atribuindo valor a seus parametros\n",
    "restaurante_praca.nome = 'Praça'\n",
    "restaurante_praca.categoria = 'Gourmet'\n",
    "restaurante_praca.ativo = False\n",
    "\n",
    "# ---------------------------------------\n",
    "#Função VARS - Quando queremos ver um dicionário destes atributos e métodos\n",
    "print(vars(restaurante_praca))"
   ]
  },
  {
   "cell_type": "code",
   "execution_count": 4,
   "metadata": {},
   "outputs": [
    {
     "name": "stdout",
     "output_type": "stream",
     "text": [
      "{'nome': 'Baby Shark', 'artista': 'Shark Man', 'duracao': 2.1}\n"
     ]
    }
   ],
   "source": [
    "class Musica():\n",
    "    nome = ''\n",
    "    artista = ''\n",
    "    duracao = ''\n",
    "\n",
    "baby_shark = Musica()\n",
    "\n",
    "baby_shark.nome = 'Baby Shark'\n",
    "baby_shark.artista = 'Shark Man'\n",
    "baby_shark.duracao = 2.10\n",
    "\n",
    "print(vars(baby_shark))\n",
    "\n"
   ]
  },
  {
   "cell_type": "markdown",
   "metadata": {},
   "source": [
    "# Exercicios\n",
    "\n",
    "1 - Atribua o valor 'Italiana' ao atributo categoria da instância restaurante_praca da classe Restaurante.\n"
   ]
  },
  {
   "cell_type": "code",
   "execution_count": 7,
   "metadata": {},
   "outputs": [
    {
     "name": "stdout",
     "output_type": "stream",
     "text": [
      "{'nome': 'Praça', 'categoria': 'Italiana', 'ativo': False}\n"
     ]
    }
   ],
   "source": [
    "# Criando uma classe \n",
    "class Restaurante:\n",
    "\n",
    "    nome = ''\n",
    "    categoria = ''\n",
    "    ativo = False\n",
    "\n",
    "# Instanciando uma classe (criando um objeto) \n",
    "restaurante_praca = Restaurante()\n",
    "\n",
    "#Atribuindo valor a seus parametros\n",
    "restaurante_praca.nome = 'Praça'\n",
    "restaurante_praca.categoria = 'Italiana'\n",
    "restaurante_praca.ativo = False\n",
    "\n",
    "#Função VARS - Quando queremos ver um dicionário destes atributos e métodos\n",
    "print(vars(restaurante_praca))\n",
    "\n",
    "\n",
    "\n",
    "\n"
   ]
  },
  {
   "cell_type": "markdown",
   "metadata": {},
   "source": [
    "2 - Acesse o valor do atributo nome da instância restaurante_praca da classe Restaurante."
   ]
  },
  {
   "cell_type": "code",
   "execution_count": 8,
   "metadata": {},
   "outputs": [
    {
     "name": "stdout",
     "output_type": "stream",
     "text": [
      "Praça\n"
     ]
    }
   ],
   "source": [
    "# Criando uma classe \n",
    "class Restaurante:\n",
    "\n",
    "    nome = ''\n",
    "    categoria = ''\n",
    "    ativo = False\n",
    "\n",
    "# Instanciando uma classe (criando um objeto) \n",
    "restaurante_praca = Restaurante()\n",
    "\n",
    "#Atribuindo valor a seus parametros\n",
    "restaurante_praca.nome = 'Praça'\n",
    "restaurante_praca.categoria = 'Italiana'\n",
    "restaurante_praca.ativo = False\n",
    "\n",
    "#Função VARS - Quando queremos ver um dicionário destes atributos e métodos\n",
    "print(restaurante_praca.nome)\n"
   ]
  },
  {
   "cell_type": "markdown",
   "metadata": {},
   "source": [
    "3 - Verifique o valor inicial do atributo ativo para a instância restaurante_praca e exiba uma mensagem informando se o restaurante está ativo ou inativo."
   ]
  },
  {
   "cell_type": "code",
   "execution_count": 10,
   "metadata": {},
   "outputs": [
    {
     "name": "stdout",
     "output_type": "stream",
     "text": [
      "O Restaurante está ativo\n"
     ]
    }
   ],
   "source": [
    "# Criando uma classe \n",
    "class Restaurante:\n",
    "\n",
    "    nome = ''\n",
    "    categoria = ''\n",
    "    ativo = True\n",
    "\n",
    "# Instanciando uma classe (criando um objeto) \n",
    "restaurante_praca = Restaurante()\n",
    "\n",
    "if restaurante_praca.ativo == False:\n",
    "    print('O Restaurante esta inátivo')\n",
    "else:\n",
    "    print('O Restaurante está ativo')"
   ]
  },
  {
   "cell_type": "markdown",
   "metadata": {},
   "source": [
    "4 - Acesse o valor do atributo de classe categoria diretamente da classe Restaurante e armazene em uma variável chamada categoria."
   ]
  },
  {
   "cell_type": "code",
   "execution_count": 11,
   "metadata": {},
   "outputs": [
    {
     "name": "stdout",
     "output_type": "stream",
     "text": [
      "Italiana\n"
     ]
    }
   ],
   "source": [
    "# Criando uma classe \n",
    "class Restaurante:\n",
    "\n",
    "    nome = ''\n",
    "    categoria = 'Italiana'\n",
    "    ativo = True\n",
    "\n",
    "# Instanciando uma classe (criando um objeto) \n",
    "restaurante_praca = Restaurante()\n",
    "\n",
    "categoria = restaurante_praca.categoria\n",
    "\n",
    "print(categoria)"
   ]
  },
  {
   "cell_type": "markdown",
   "metadata": {},
   "source": [
    "5 - Altere o valor do atributo nome para 'Bistrô'."
   ]
  },
  {
   "cell_type": "code",
   "execution_count": 12,
   "metadata": {},
   "outputs": [
    {
     "name": "stdout",
     "output_type": "stream",
     "text": [
      "Bistro\n"
     ]
    }
   ],
   "source": [
    "# Criando uma classe \n",
    "class Restaurante:\n",
    "\n",
    "    nome = ''\n",
    "    categoria = ''\n",
    "    ativo = False\n",
    "\n",
    "# Instanciando uma classe (criando um objeto) \n",
    "restaurante_praca = Restaurante()\n",
    "\n",
    "#Atribuindo valor a seus parametros\n",
    "restaurante_praca.nome = 'Praça'\n",
    "restaurante_praca.categoria = 'Italiana'\n",
    "restaurante_praca.ativo = False\n",
    "\n",
    "#Alterando nome para 'Bistro'\n",
    "restaurante_praca.nome = 'Bistro'\n",
    "\n",
    "#Função VARS - Quando queremos ver um dicionário destes atributos e métodos\n",
    "print(restaurante_praca.nome)"
   ]
  },
  {
   "cell_type": "markdown",
   "metadata": {},
   "source": [
    "6 - Crie uma nova instância da classe Restaurante chamada restaurante_pizza com o nome 'Pizza Place' e categoria 'Fast Food'."
   ]
  },
  {
   "cell_type": "code",
   "execution_count": 13,
   "metadata": {},
   "outputs": [
    {
     "name": "stdout",
     "output_type": "stream",
     "text": [
      "{'nome': 'Pizza Place', 'categoria': 'Fast Food'}\n"
     ]
    }
   ],
   "source": [
    "# Criando uma classe \n",
    "class Restaurante:\n",
    "\n",
    "    nome = ''\n",
    "    categoria = ''\n",
    "    ativo = False\n",
    "\n",
    "# Instanciando uma classe (criando um objeto) \n",
    "restaurante_praca = Restaurante()\n",
    "\n",
    "# Criando nova instância\n",
    "resutaurante_pizza = Restaurante()\n",
    "\n",
    "resutaurante_pizza.nome = 'Pizza Place'\n",
    "resutaurante_pizza.categoria = 'Fast Food'\n",
    "\n",
    "print(vars(resutaurante_pizza))"
   ]
  },
  {
   "cell_type": "markdown",
   "metadata": {},
   "source": [
    "7 - Verifique se a categoria da instância restaurante_pizza é 'Fast Food'."
   ]
  },
  {
   "cell_type": "code",
   "execution_count": 15,
   "metadata": {},
   "outputs": [
    {
     "name": "stdout",
     "output_type": "stream",
     "text": [
      "Sim, somos um fast food\n"
     ]
    }
   ],
   "source": [
    "# Criando uma classe \n",
    "class Restaurante:\n",
    "\n",
    "    nome = ''\n",
    "    categoria = ''\n",
    "    ativo = False\n",
    "\n",
    "# Instanciando uma classe (criando um objeto) \n",
    "restaurante_praca = Restaurante()\n",
    "\n",
    "# Criando nova instância\n",
    "restaurante_pizza = Restaurante()\n",
    "\n",
    "restaurante_pizza.nome = 'Pizza Place'\n",
    "restaurante_pizza.categoria = 'Fast Food'\n",
    "\n",
    "if restaurante_pizza.categoria == 'Fast Food':\n",
    "    print('Sim, somos um fast food')\n",
    "else:\n",
    "    print('Errado, somos uma pizzaria artesa')"
   ]
  },
  {
   "cell_type": "markdown",
   "metadata": {},
   "source": [
    "8 - Mude o estado da instância restaurante_pizza para ativo."
   ]
  },
  {
   "cell_type": "code",
   "execution_count": 16,
   "metadata": {},
   "outputs": [
    {
     "name": "stdout",
     "output_type": "stream",
     "text": [
      "Estamos ativos! Bora pedir uma piiza hoje?!\n"
     ]
    }
   ],
   "source": [
    "# Criando uma classe \n",
    "class Restaurante:\n",
    "\n",
    "    nome = ''\n",
    "    categoria = ''\n",
    "    ativo = False\n",
    "\n",
    "# Instanciando uma classe (criando um objeto) \n",
    "restaurante_praca = Restaurante()\n",
    "\n",
    "# Criando nova instância\n",
    "restaurante_pizza = Restaurante()\n",
    "\n",
    "restaurante_pizza.nome = 'Pizza Place'\n",
    "restaurante_pizza.categoria = 'Fast Food'\n",
    "\n",
    "resutaurante_pizza.ativo = True\n",
    "\n",
    "if resutaurante_pizza.ativo == False:\n",
    "    print('Estamos desativos no momento')\n",
    "else:\n",
    "    print('Estamos ativos! Bora pedir uma piiza hoje?!')"
   ]
  },
  {
   "cell_type": "markdown",
   "metadata": {},
   "source": [
    "9 - Imprima no console o nome e a categoria da instância restaurante_praca."
   ]
  },
  {
   "cell_type": "code",
   "execution_count": 17,
   "metadata": {},
   "outputs": [
    {
     "name": "stdout",
     "output_type": "stream",
     "text": [
      "Bem vindo ao Pizza Place, somos um restaurante Fast Food\n"
     ]
    }
   ],
   "source": [
    "class Restaurante:\n",
    "\n",
    "    nome = ''\n",
    "    categoria = ''\n",
    "    ativo = False\n",
    "\n",
    "# Instanciando uma classe (criando um objeto) \n",
    "restaurante_praca = Restaurante()\n",
    "\n",
    "# Criando nova instância\n",
    "restaurante_pizza = Restaurante()\n",
    "\n",
    "restaurante_pizza.nome = 'Pizza Place'\n",
    "restaurante_pizza.categoria = 'Fast Food'\n",
    "\n",
    "print(f'Bem vindo ao {restaurante_pizza.nome}, somos um restaurante {restaurante_pizza.categoria}')"
   ]
  },
  {
   "cell_type": "code",
   "execution_count": 3,
   "metadata": {},
   "outputs": [
    {
     "name": "stdout",
     "output_type": "stream",
     "text": [
      "507600.0\n"
     ]
    }
   ],
   "source": []
  }
 ],
 "metadata": {
  "kernelspec": {
   "display_name": "Python 3",
   "language": "python",
   "name": "python3"
  },
  "language_info": {
   "codemirror_mode": {
    "name": "ipython",
    "version": 3
   },
   "file_extension": ".py",
   "mimetype": "text/x-python",
   "name": "python",
   "nbconvert_exporter": "python",
   "pygments_lexer": "ipython3",
   "version": "3.12.1"
  }
 },
 "nbformat": 4,
 "nbformat_minor": 2
}
