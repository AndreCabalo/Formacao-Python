{
 "cells": [
  {
   "cell_type": "markdown",
   "metadata": {},
   "source": [
    "# Importando Classe e composições\n",
    "\n",
    "Normalmente em um arquivo .py, separamos as classes do arquivo main, ou seja, importamos os arquivo que contem as classes e seu métodos para utilizarmos em nosso arquivo main, no qual iremos criar as instanciar, prints e entre outros.\n",
    "\n",
    "# From e import"
   ]
  },
  {
   "cell_type": "code",
   "execution_count": null,
   "metadata": {},
   "outputs": [],
   "source": [
    "# Da pasta modelos>restaurante, importe a classe Restaurante\n",
    "from modelos.restaurante import Restaurante"
   ]
  },
  {
   "cell_type": "markdown",
   "metadata": {},
   "source": [
    "# Criando a classe de avaliação \n",
    "\n",
    "Precisamos criar um método de avaliação do restaurante, para isso precisaremos criar esta avaliação, para isso:\n",
    "- Criaremos uma classe chamada Avaliação\n",
    "- Entenderemos a relação da classe avaliação com a classe restaurante"
   ]
  },
  {
   "cell_type": "code",
   "execution_count": null,
   "metadata": {},
   "outputs": [],
   "source": [
    "class Avaliacao:\n",
    "\n",
    "    def __init__(self, cliente, nota):\n",
    "        self._cliente = cliente\n",
    "        self._nota = nota"
   ]
  },
  {
   "cell_type": "code",
   "execution_count": 4,
   "metadata": {},
   "outputs": [],
   "source": [
    "# Na classe Restaurante criamos o método recebe avaliacao \n",
    "\n",
    "def receber_avaliacao(self, cliente, nota):\n",
    "    avaliacao = Avaliacao(cliente, nota)\n",
    "    self._avaliacao.append(avaliacao)"
   ]
  },
  {
   "cell_type": "markdown",
   "metadata": {},
   "source": [
    "# Exercicios\n",
    "\n",
    "1- Crie uma classe chamada Livro com um construtor que aceita os parâmetros titulo, autor e ano_publicacao. Inicie um atributo chamado disponivel como True por padrão."
   ]
  },
  {
   "cell_type": "code",
   "execution_count": null,
   "metadata": {},
   "outputs": [],
   "source": [
    "class Livro:\n",
    "    def __init__(self, titulo, autor, ano_publicacao):\n",
    "        self.titulo = titulo\n",
    "        self.autor = autor\n",
    "        self.ano_publicacao = ano_publicacao\n",
    "        self.disponivel = True \n",
    "    "
   ]
  },
  {
   "cell_type": "markdown",
   "metadata": {},
   "source": [
    "2- Na classe Livro, adicione um método especial str que retorna uma mensagem formatada com o título, autor e ano de publicação do livro. Crie duas instâncias da classe Livro e imprima essas instâncias."
   ]
  },
  {
   "cell_type": "code",
   "execution_count": 7,
   "metadata": {},
   "outputs": [
    {
     "name": "stdout",
     "output_type": "stream",
     "text": [
      "As Crõnicas de Gelo e Foco          | George R.R Martin         | 1996                     \n",
      "O Homem Aranha no Spider-Verso      | Marvel                    | 2023                     \n",
      "A arte da guerra                    | Sun Tzu                   | 2019                     \n"
     ]
    }
   ],
   "source": [
    "class Livro:\n",
    "    def __init__(self, titulo, autor, ano_publicacao):\n",
    "        self.titulo = titulo\n",
    "        self.autor = autor\n",
    "        self.ano_publicacao = ano_publicacao\n",
    "        self.disponivel = True \n",
    "\n",
    "    def __str__(self):\n",
    "        return f'{self.titulo.ljust(35)} | {self.autor.ljust(25)} | {self.ano_publicacao.ljust(25)}'\n",
    "    \n",
    "game_of_thrones = Livro('As Crõnicas de Gelo e Foco', 'George R.R Martin','1996')\n",
    "spider_verse = Livro('O Homem Aranha no Spider-Verso', 'Marvel','2023')\n",
    "arte_da_guerra = Livro('A arte da guerra', 'Sun Tzu','2019')\n",
    "\n",
    "print(game_of_thrones)\n",
    "print(spider_verse)\n",
    "print(arte_da_guerra)\n"
   ]
  },
  {
   "cell_type": "markdown",
   "metadata": {},
   "source": [
    "3- Adicione um método de instância chamado emprestar à classe Livro que define o atributo disponivel como False. Crie uma instância da classe, chame o método emprestar e imprima se o livro está disponível ou não."
   ]
  },
  {
   "cell_type": "code",
   "execution_count": 9,
   "metadata": {},
   "outputs": [
    {
     "name": "stdout",
     "output_type": "stream",
     "text": [
      "As Crõnicas de Gelo e Foco          | George R.R Martin         | 1996                      | True\n",
      "As Crõnicas de Gelo e Foco          | George R.R Martin         | 1996                      | False\n",
      "O Homem Aranha no Spider-Verso      | Marvel                    | 2023                      | True\n",
      "A arte da guerra                    | Sun Tzu                   | 2019                      | True\n"
     ]
    }
   ],
   "source": [
    "class Livro:\n",
    "    def __init__(self, titulo, autor, ano_publicacao):\n",
    "        self.titulo = titulo\n",
    "        self.autor = autor\n",
    "        self.ano_publicacao = ano_publicacao\n",
    "        self.disponivel = True \n",
    "\n",
    "    def __str__(self):\n",
    "        return f'{self.titulo.ljust(35)} | {self.autor.ljust(25)} | {self.ano_publicacao.ljust(25)} | {self.disponivel}'\n",
    "    \n",
    "    def emprestar(self):\n",
    "        self.disponivel = False\n",
    "    \n",
    "game_of_thrones = Livro('As Crõnicas de Gelo e Foco', 'George R.R Martin','1996')\n",
    "spider_verse = Livro('O Homem Aranha no Spider-Verso', 'Marvel','2023')\n",
    "arte_da_guerra = Livro('A arte da guerra', 'Sun Tzu','2019')\n",
    "\n",
    "print(game_of_thrones)\n",
    "game_of_thrones.emprestar()\n",
    "print(game_of_thrones)\n",
    "print(spider_verse)\n",
    "print(arte_da_guerra)\n"
   ]
  },
  {
   "cell_type": "markdown",
   "metadata": {},
   "source": [
    "4- Adicione um método estático chamado verificar_disponibilidade à classe Livro que recebe um ano como parâmetro e retorna uma lista dos livros disponíveis publicados nesse ano."
   ]
  },
  {
   "cell_type": "code",
   "execution_count": 36,
   "metadata": {},
   "outputs": [
    {
     "name": "stdout",
     "output_type": "stream",
     "text": [
      "Encontrei o livro : A arte da guerra                    | Sun Tzu                   | 2019                      | True\n",
      "Encontrei o livro : Baby Shark                          | Kids                      | 2019                      | True\n"
     ]
    }
   ],
   "source": [
    "class Livro:\n",
    "    livros = []\n",
    "\n",
    "    def __init__(self, titulo, autor, ano_publicacao):\n",
    "        self.titulo = titulo\n",
    "        self.autor = autor\n",
    "        self.ano_publicacao = ano_publicacao\n",
    "        self.disponivel = True \n",
    "\n",
    "        '''Adicionando livro a lista de livros'''\n",
    "        Livro.livros.append(self)\n",
    "\n",
    "\n",
    "    def __str__(self):\n",
    "        return f'{self.titulo.ljust(35)} | {self.autor.ljust(25)} | {self.ano_publicacao.ljust(25)} | {self.disponivel}'\n",
    "    \n",
    "    def emprestar(self):\n",
    "        self.disponivel = False\n",
    "\n",
    "    def verificar_disponibilidade(ano_buscado):\n",
    "        encontrado = False\n",
    "\n",
    "        for livro in Livro.livros:\n",
    "            if livro.ano_publicacao == ano_buscado:\n",
    "                print(f'Encontrei o livro : {livro}')\n",
    "                encontrado = True\n",
    "\n",
    "        if not encontrado:\n",
    "            print(f'Nenhum livro encontrado no ano de : {ano_buscado}')\n",
    "                \n",
    "              \n",
    "\n",
    "    \n",
    "game_of_thrones = Livro('As Crõnicas de Gelo e Foco', 'George R.R Martin','1996')\n",
    "spider_verse = Livro('O Homem Aranha no Spider-Verso', 'Marvel','2023')\n",
    "arte_da_guerra = Livro('A arte da guerra', 'Sun Tzu','2019')\n",
    "baby_shark = Livro('Baby Shark', 'Kids','2019')\n",
    "\n",
    "# print(game_of_thrones)\n",
    "# game_of_thrones.emprestar()\n",
    "# print(game_of_thrones)\n",
    "# print(spider_verse)\n",
    "# print(arte_da_guerra)\n",
    "\n",
    "Livro.verificar_disponibilidade('2019')\n"
   ]
  }
 ],
 "metadata": {
  "kernelspec": {
   "display_name": "Python 3",
   "language": "python",
   "name": "python3"
  },
  "language_info": {
   "codemirror_mode": {
    "name": "ipython",
    "version": 3
   },
   "file_extension": ".py",
   "mimetype": "text/x-python",
   "name": "python",
   "nbconvert_exporter": "python",
   "pygments_lexer": "ipython3",
   "version": "3.12.1"
  }
 },
 "nbformat": 4,
 "nbformat_minor": 2
}
