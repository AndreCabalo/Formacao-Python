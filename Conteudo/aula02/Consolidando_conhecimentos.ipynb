{
 "cells": [
  {
   "cell_type": "markdown",
   "metadata": {},
   "source": [
    "# Consolidando conhecimentos\n",
    "\n",
    "Podemos promover algumas melhorias no nosso código, como por exemplo, caso o usuário atribua uma nota maior que 5 (5 será nossa nota maxima), podemos considerar que ele esta pensando no intervalo de 0-10, por tanto podemos dividir o resultado por 2.\n",
    "\n",
    "    - Ou seja, e nota for de 0-5, considerar a nota,\n",
    "    - Se nota for de 5-10, dividir por 2\n"
   ]
  },
  {
   "cell_type": "code",
   "execution_count": null,
   "metadata": {},
   "outputs": [],
   "source": [
    "def receber_avaliacao(self, cliente, nota):\n",
    "        if nota > 0 and nota <= 5 :\n",
    "            avaliacao = Avaliacao(cliente, nota)\n",
    "            self._avaliacao.append(avaliacao)\n",
    "        elif nota > 5 and nota <= 10:\n",
    "            nota = nota/2\n",
    "            avaliacao = Avaliacao(cliente, nota)\n",
    "            self._avaliacao.append(avaliacao)"
   ]
  },
  {
   "cell_type": "markdown",
   "metadata": {},
   "source": [
    "Além disso e fortemente recomendado executar o docstring do projeto, para facilitar a leitura de outros devs"
   ]
  }
 ],
 "metadata": {
  "language_info": {
   "name": "python"
  }
 },
 "nbformat": 4,
 "nbformat_minor": 2
}
