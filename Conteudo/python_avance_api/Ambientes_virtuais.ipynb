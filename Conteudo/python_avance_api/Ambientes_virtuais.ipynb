{
 "cells": [
  {
   "cell_type": "markdown",
   "metadata": {},
   "source": [
    "# Ambientes Virtuais\n",
    "\n",
    "Resumidamente, é como se tivessemos um microcomputador dentro do nosso computador.\n",
    "\n",
    "Para que nosso sistema possa rodar de forma similar para todos os devs envolvidos, o ideal é que criemos um ambientes virtual com as mesma condições, como por exemplo:\n",
    "\n",
    "* Com mesma versão do Python\n",
    "* Mesma versão do Flask\n",
    "\n",
    "<i>Isso evita que o sistema quebre e aquele famoso jargão \"Ahh mas no meu PC roda\"</i>\n",
    "\n",
    "\n",
    "Por tanto, nosso primeiro passo é :\n",
    "\n",
    "* Aprender a preparar este ambiente virtual\n",
    "\n",
    "* Aprender a puxar o ambiente virtual de outra pessoa\n"
   ]
  },
  {
   "cell_type": "markdown",
   "metadata": {},
   "source": [
    "## Venv - Ambiente Virtual Python\n",
    "\n",
    "O Python nos disponibiliza um ambiente virtual chamado \"Venv\", que é um dos mais populares\n",
    "\n",
    "Para criar esta VENV, devemos:\n",
    "\n",
    "1 - No VsCode em uma pasta nova, no terminal, usamos o comando:\n",
    "\n",
    "    <code>python -m venv nome-que-queremos-para-venv</code>\n",
    "\n",
    "Onde:\n",
    "\n",
    "| Comando                     | Descrição                              |\n",
    "|-----------------------------|----------------------------------------|\n",
    "|python                       |  Para indicar um comando python        |\n",
    "|-m                           |  Para indicar a criação de um modulo   |\n",
    "|venv                         |  Para indicar a criação de uma venv    |\n",
    "|nome-que-queremos-para-venv  |  É o nome escolhido para a nossa venv  |\n",
    "\n",
    "Ao fazer isso, o python cria automaticamente um ambiente virtual\n",
    "\n",
    "* A boa prática, recomenda usarmos o nome da venv de venv ou env, especificamente"
   ]
  }
 ],
 "metadata": {
  "language_info": {
   "name": "python"
  }
 },
 "nbformat": 4,
 "nbformat_minor": 2
}
