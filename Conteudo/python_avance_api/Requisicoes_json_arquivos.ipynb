{
 "cells": [
  {
   "cell_type": "markdown",
   "metadata": {},
   "source": [
    "# HTTP\n",
    "\n",
    "Forma na qual compartilhamos recursos e informações.\n",
    "\n",
    "Uma das formas de utilizar essa comunicação é através de uma API.\n",
    "\n",
    "# Oque é API?\n",
    "\n",
    "API tem o intuito de expor recursos/métodos de uma determina aplicação, atráves de um linguagem comum entre as maiorias das linguagens\n",
    "\n",
    "Sempre que tentamos ter uma respostarar ou acessar um dados, <i>\"por baixo dos panos\"</i> estamos enviando um requisição(request) entre cliente-servidor\n",
    "\n",
    "Requisição na qual chega até o servidor, envia um requisição(request) no qual pede uma resposta(response)\n",
    "\n",
    "Para isso precisamos de uma solução Python, na qual fique escutando esses resquest e caso tenha uma response nos retorne\n"
   ]
  },
  {
   "cell_type": "markdown",
   "metadata": {},
   "source": [
    "# Json\n",
    "\n",
    "O formato JSON (JavaScript Object Notation) é, como o nome sugere, uma forma de notação de objetos JavaScript, de modo que eles possam ser representados de uma forma comum entre inumeras linguagens\n",
    "\n",
    "Outo ponto é que este formato permite que o objeto seja facilmente trafegado entre aplicações em quaisquer protocolos, inclusive o HTTP\n",
    "\n",
    "# Requisição\n",
    "\n",
    "# Inserindo conteudo de restaurantes via JSON\n",
    "\n",
    "Abrimos o ambiente virtual como ja haviamos feito com <code>venv\\Scripts\\activate.bat</code>\n",
    "\n",
    "Em seguida criamos um arquivo \"app.py\"\n",
    "\n",
    "e nele adicionamos o seguinte:"
   ]
  },
  {
   "cell_type": "code",
   "execution_count": null,
   "metadata": {},
   "outputs": [],
   "source": [
    "# Importamos o request que busca as infos\n",
    "import requests\n",
    "\n",
    "# Armazenando a url em uma variavel\n",
    "url = 'https://guilhermeonrails.github.io/api-restaurantes/restaurantes.json'\n",
    "\n",
    "#Solicitando que pegue a variavel url\n",
    "response = requests.get(url)\n",
    "\n",
    "#Se o print retornar 200, significa que deu certo, 200 é um  código que informa o sucesso do request, se der erro retorna 404\n",
    "print(response)"
   ]
  },
  {
   "cell_type": "markdown",
   "metadata": {},
   "source": [
    "Como queremos retornar o json e não apenas o status_code, podemos criar uma condicionar, que se caso status_code == 200, retorna o json"
   ]
  },
  {
   "cell_type": "code",
   "execution_count": null,
   "metadata": {},
   "outputs": [],
   "source": [
    "#Criamos uma condicional, se caso der 200 traga as infos\n",
    "if response.status_code == 200:\n",
    "    dados_json = response.json()\n",
    "    print(dados_json)\n",
    "else:\n",
    "    print(f'O erro foi {response.status_code}')"
   ]
  },
  {
   "cell_type": "markdown",
   "metadata": {},
   "source": [
    "Recebemos uma pancada de dados, como são muitos dados, o intuito será filtrar estes dados da seguinte maneira:"
   ]
  },
  {
   "cell_type": "code",
   "execution_count": null,
   "metadata": {},
   "outputs": [],
   "source": [
    "#Criamos uma condicional, se caso der 200 traga as infos com response.json\n",
    "if response.status_code == 200:\n",
    "    dados_json = response.json()\n",
    "    #Criamos um dicionário vazio que receberá todos restaurantes\n",
    "    dados_restaurante = {}\n",
    "\n",
    "    for item in dados_json:\n",
    "        #Nome do restaurante será o valor do item com chave 'Company'\n",
    "        nome_do_restaurante = item['Company']\n",
    "        #Validação para caso ja tenha o restaurante, não precisamos cria-lo novamente\n",
    "        if nome_do_restaurante not in dados_restaurante:\n",
    "            dados_restaurante[nome_do_restaurante]=[]\n",
    "\n",
    "        #Adicionando os dados do restaurante, no restaurante de nome tal\n",
    "        dados_restaurante[nome_do_restaurante].append({\n",
    "            \"item\":item['Item'],\n",
    "            \"price\": item['price'],\n",
    "            \"description\" : item['description']\n",
    "        })        \n",
    "else:\n",
    "    #Erro se o request não encontrar o endereço (não for == 200)\n",
    "    print(f'O erro foi {response.status_code}')\n",
    "\n",
    "# Printando os dados do restaurante que tenha a chave com valor \"mcdonald`s\"\n",
    "print(dados_restaurante[\"McDonald’s\"])"
   ]
  },
  {
   "cell_type": "markdown",
   "metadata": {},
   "source": [
    "Agora queremos criar arquivos Python para cada item do nosso cardapio, para isso faremos o seguinte:"
   ]
  },
  {
   "cell_type": "code",
   "execution_count": null,
   "metadata": {},
   "outputs": [],
   "source": [
    "#Nome do restaurante e dados em dados do restaurante.items()\n",
    "for nome_do_restaurante, dados in dados_restaurante.items():\n",
    "    # Iremos nomear o arquivo de nomedorestaurante.json \n",
    "    nome_do_arquivo = f'{nome_do_restaurante}.json'\n",
    "    # with(no_arquivo, modo leitura r ou escrita w)\n",
    "    with open(nome_do_arquivo,'w') as arquivo_restaurante:\n",
    "        # Para criar um arquivo json fazemos json.dump (no singular) com os parametros(dados que quero exibir, nomearquivo, indentação)\n",
    "        json.dump(dados, arquivo_restaurante, indent=4)"
   ]
  },
  {
   "cell_type": "markdown",
   "metadata": {},
   "source": [
    "# WITH\n",
    "\n",
    "* Comando que nos permite abrir e ler ou escrever em um arquivo:\n",
    "\n",
    "* Caso queira escrever em um arquivo usamos o \"w\" da seguinte maneira:\n",
    "\n",
    "<code>with open(nome_arquivo, 'w')\n",
    "</code>\n",
    "\n",
    "# JSON.DUMP \n",
    "\n",
    "* Método que nos permite criar um arquivo json e inserir dados nele\n",
    "\n",
    "* Podemos fazer isso da seguinte maneira, primeiro importando json no inicio do script e inserindo:\n",
    "\n",
    "<code>json.dump(dados_a_inserir, nome_do_arquivo, indentação</code>"
   ]
  }
 ],
 "metadata": {
  "kernelspec": {
   "display_name": "Python 3",
   "language": "python",
   "name": "python3"
  },
  "language_info": {
   "codemirror_mode": {
    "name": "ipython",
    "version": 3
   },
   "file_extension": ".py",
   "mimetype": "text/x-python",
   "name": "python",
   "nbconvert_exporter": "python",
   "pygments_lexer": "ipython3",
   "version": "3.12.1"
  }
 },
 "nbformat": 4,
 "nbformat_minor": 2
}
