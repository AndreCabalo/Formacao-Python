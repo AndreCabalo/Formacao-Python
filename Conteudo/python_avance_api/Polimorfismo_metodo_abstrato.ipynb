{
 "cells": [
  {
   "cell_type": "markdown",
   "metadata": {},
   "source": [
    "# Polimorfismo\n",
    "\n",
    "Devemos adicionar tanto bebidas, quantos pratos no nosso cardapio, porém seria muito repetitivo fazer uma função para cada item, concorda?\n",
    "\n",
    "Por tanto podemos fazer apenas um método de insersão no qual adicionar se o item for do tipo ItemCardapio.\n",
    "\n",
    "## Validar se pertence a uma classe - Isinstance(item, tipoDeClasse)\n",
    "\n",
    "Para fazer esta validação podemos usar o método isinstance, no qual retorna True ou False, da seguinte maneira:"
   ]
  },
  {
   "cell_type": "code",
   "execution_count": null,
   "metadata": {},
   "outputs": [],
   "source": [
    "def adicionar_no_cardapio(self, item):\n",
    "    if isinstance(item, ItemCardapio): \n",
    "        self._cardapio.append(item)"
   ]
  },
  {
   "cell_type": "markdown",
   "metadata": {},
   "source": [
    "## Mostrar indice e valor de uma lista - Enumerate\n",
    "\n",
    "Muito usado em for's e similares"
   ]
  },
  {
   "cell_type": "code",
   "execution_count": null,
   "metadata": {},
   "outputs": [],
   "source": [
    "@property\n",
    "def exibir_cardapio(self):\n",
    "    print(f'Cardapio do restaurante {self._nome}\\n')\n",
    "    #Enumerate(item, indice a começar)\n",
    "    for i,item in enumerate(self._cardapio, start=  1):\n",
    "        print(item)"
   ]
  },
  {
   "cell_type": "markdown",
   "metadata": {},
   "source": [
    "## Verificar se temos tal atributo - Hasatrr(item, 'atributo')\n",
    "\n",
    "Podemos usar este método para validar se temos tal atributo na classe, onde devemos passar primeiro o item e em seguida o nome do atributo que buscamos, lembrando que ele deve ter 'aspas' pois estamos buscando uma string do nome do atributo\n",
    "\n",
    "Exemplo:"
   ]
  },
  {
   "cell_type": "code",
   "execution_count": null,
   "metadata": {},
   "outputs": [],
   "source": [
    "@property\n",
    "def exibir_cardapio(self):\n",
    "    print(f'Cardapio do restaurante {self._nome}\\n')\n",
    "\n",
    "    for i,item in enumerate(self._cardapio, start = 1):\n",
    "        #HASATRR (item, 'nome do atributo')\n",
    "        if hasattr(item, 'descricao'):\n",
    "            mensagem_prato = f'{i}.Nome: {item._nome}  | Preço: R${item._preco} | Descrição: {item.descricao}  '\n",
    "            print(mensagem_prato)\n",
    "        else:\n",
    "            mensagem_bebida = f'{i}.Nome: {item._nome}  | Preço: R${item._preco} | Tamanho: {item.tamanho}  '\n",
    "            print(mensagem_bebida)"
   ]
  },
  {
   "cell_type": "markdown",
   "metadata": {},
   "source": [
    "## Classe Abstrata\n",
    "\n",
    "Sempre que quisermos usar um método de classe abstrata, devemos nos lembrar de:\n",
    "\n",
    "* Importar ABC e abstractclassmethod\n",
    "\n",
    "* Lembrar que não queremos que a classe crie/instancia\n",
    "\n",
    "* Adicionar o decoretor @abstractmethod\n",
    "\n",
    "* Lembrar que a classe que tem este método abstract deve herdar de ABC, por tanto colocar o (ABC), apos o nome da classe\n",
    "\n",
    "* Todos os filhos desta classe, teram este método abstract obrigatóriamente, isso mesmo devemos criar o método abstract em todos os filhos/as"
   ]
  },
  {
   "cell_type": "code",
   "execution_count": null,
   "metadata": {},
   "outputs": [],
   "source": [
    "# Imports \n",
    "from abc import ABC, abstractclassmethod\n",
    "\n",
    "# ItemCardapiio herda de ABC\n",
    "class ItemCardapio(ABC):\n",
    "    def __init__(self, nome, preco):\n",
    "        self._nome = nome\n",
    "        self._preco = preco\n",
    "\n",
    "#Metódo abstrato - que obriga todos os filhos a cria-lo tbm\n",
    "    @abstractclassmethod\n",
    "    def aplicar_desconto(self):\n",
    "        pass"
   ]
  },
  {
   "cell_type": "markdown",
   "metadata": {},
   "source": [
    "## Polimorfimo\n",
    "\n",
    "Vimos que com o método de classe abstrata a cima, seremos obrigado a implatar o mesmo método em todos os filhos(as), certo?\n",
    "\n",
    "* Mas um coisa boa! Podemos implantar o mesmo método, porém com diferença em cada uma das classes filhas, isso se chama polimorfismo\n",
    "\n",
    "* Por exemplo, classe prato e classe bebida, herdam de itemCardapio, mas bebida tem 10% de desconto e prato tem 5% de desconto\n",
    "\n",
    "Exemplo na classe mae:"
   ]
  },
  {
   "cell_type": "code",
   "execution_count": null,
   "metadata": {},
   "outputs": [],
   "source": [
    "from abc import ABC, abstractclassmethod\n",
    "\n",
    "class ItemCardapio(ABC):\n",
    "    def __init__(self, nome, preco):\n",
    "        self._nome = nome\n",
    "        self._preco = preco\n",
    "\n",
    "    @abstractclassmethod\n",
    "    def aplicar_desconto(self):\n",
    "        pass"
   ]
  },
  {
   "cell_type": "markdown",
   "metadata": {},
   "source": [
    "Na classe filha prato:"
   ]
  },
  {
   "cell_type": "code",
   "execution_count": null,
   "metadata": {},
   "outputs": [],
   "source": [
    "from modelos.cardapio.item_cardapio import ItemCardapio\n",
    "\n",
    "# Esta classe prato, irá herdará metodos e atributos da classe ItemCardapio\n",
    "class Prato(ItemCardapio):\n",
    "    def __init__(self, nome, preco, descricao):\n",
    "        #Usando o super classe, método init, passar nome e preco\n",
    "        super().__init__(nome,preco)\n",
    "        self.descricao = descricao\n",
    "\n",
    "    def __str__(self):\n",
    "        return f'{self._nome}'\n",
    "\n",
    "#Desconto de 5%\n",
    "    def aplicar_desconto(self):\n",
    "        self._preco -= (self._preco * 0.05)"
   ]
  },
  {
   "cell_type": "markdown",
   "metadata": {},
   "source": [
    "Na outra classe filha bebida:"
   ]
  },
  {
   "cell_type": "code",
   "execution_count": null,
   "metadata": {},
   "outputs": [],
   "source": [
    "from modelos.cardapio.item_cardapio import ItemCardapio\n",
    "\n",
    "class Bebida(ItemCardapio):\n",
    "    def __init__(self, nome, preco, tamanho):\n",
    "        super().__init__(nome, preco)\n",
    "        self.tamanho  = tamanho\n",
    "\n",
    "    def __str__(self):\n",
    "        return f'{self._nome}'\n",
    "    \n",
    "    #Desconto de 8%\n",
    "    def aplicar_desconto(self):\n",
    "        self._preco -= (self._preco * 0.08)"
   ]
  }
 ],
 "metadata": {
  "language_info": {
   "name": "python"
  }
 },
 "nbformat": 4,
 "nbformat_minor": 2
}
