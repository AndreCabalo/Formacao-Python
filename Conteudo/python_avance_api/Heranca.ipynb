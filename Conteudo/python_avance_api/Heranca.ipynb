{
 "cells": [
  {
   "cell_type": "markdown",
   "metadata": {},
   "source": [
    "# Herança \n",
    "\n",
    "Usamos o conceito de herança para otimizar e reaproveitar um código ja existente, ganhando assim, tempo de execução e compreensão.\n",
    "\n",
    "* Por exemplo, temos um item do cardapio, sendo que todo item do cardapio possui (nome, preço),\n",
    "\n",
    "* Temos também os pratos e bebidas, que também possui algunas caracteristicas iguais a item do cardapio, como (nome,preço) e mais algumas exclusivas.\n",
    "\n",
    "* Por tanto para usaremos herança devemos fazer o seguinte:\n",
    "\n",
    "    - Importar a classe que queremos herdar, dentro da classe filha\n",
    "\n",
    "    - Adicionar o nome da classe mãe dentro de um parenteses na frente do nome da classe\n",
    "    \n",
    "    - Chamar o super( ) e acessar o construtor da mãe\n",
    "\n",
    "* Observações:\n",
    "\n",
    "    - A classe filha, herda os atributos e métodos da classe mãe, e se quiser sobrepor estas, pode, mas veremos em breve isso em polimorfismo\n",
    "\n",
    "Exemplo Classe mãe:"
   ]
  },
  {
   "cell_type": "code",
   "execution_count": null,
   "metadata": {},
   "outputs": [],
   "source": [
    "#Na classe ItemCardapio\n",
    "class ItemCardapio:\n",
    "    def __init__(self, nome, preco):\n",
    "        self._nome = nome\n",
    "        self._preco = preco"
   ]
  },
  {
   "cell_type": "markdown",
   "metadata": {},
   "source": [
    "Exemplo Classe filha:"
   ]
  },
  {
   "cell_type": "code",
   "execution_count": null,
   "metadata": {},
   "outputs": [],
   "source": [
    "#PRIMEIRO IMPORTANTO\n",
    "# from modelos.cardapio.item_cardapio import ItemCardapio\n",
    "        \n",
    "# Esta classe prato, irá herdará metodos e atributos da classe ItemCardapio\n",
    "class Prato(ItemCardapio):\n",
    "    def __init__(self, nome, preco, descricao):\n",
    "        #Usando o super classe, método init, passar nome e preco\n",
    "        super().__init__(nome,preco)\n",
    "        self.descricao = descricao"
   ]
  }
 ],
 "metadata": {
  "language_info": {
   "name": "python"
  }
 },
 "nbformat": 4,
 "nbformat_minor": 2
}
