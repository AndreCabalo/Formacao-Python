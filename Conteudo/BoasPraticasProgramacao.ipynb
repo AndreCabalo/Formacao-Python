{
 "cells": [
  {
   "cell_type": "markdown",
   "metadata": {},
   "source": [
    "<h1 style=\"color:springgreen\">Boas práticas de programação</h1>"
   ]
  },
  {
   "cell_type": "markdown",
   "metadata": {},
   "source": [
    "<h1 style=\"color:darkorange\">Design Patterns</h1>\n",
    "\n",
    "\n",
    "* Significa que é um padrão de repetição na construção de projetos, um padrão e não uma regra!\n",
    "\n",
    "* Que descreve caracteristicas para que os programadores saibam oque é cada parte do projeto.\n",
    "\n",
    "* Criado para ter um conscenso, e tentar resolver o problema de dar nome para as coisas no software.\n",
    "\n",
    "* Diferente de regulamentação, o ideal é que outra pessoa entenda seu código.\n",
    "\n",
    "* Não é sempre que precisamos usar Design Patterns\n",
    "\n",
    "\n",
    "\n",
    "<h1 style=\"color:darkorange\">Empresas que usam Python</h1>\n",
    "\n",
    "- <b>Google</b>\n",
    "    - Possui seu proprio jargão <b style=\"color:royalblue\">\"Python where we can, C++ where we must\"</b>\n",
    "- <b>Instagram</b>\n",
    "    - Utiliza python como principal linguagem de programação desde 2016\n",
    "    - Utilizam Django tbm\n",
    "- <b>Amazon</b>\n",
    "    - As sugestões que aparecem na plataforma são resultados de análise de hábitos de compras e padrões de buscas, desenvolvidas tanto com Python (Machine Learning e Big data) quanto pelo Hadoop, banco de dados da Amazon.\n",
    "- <b>Spotify</b>\n",
    "    - Patrocina eventos e conferências dedicadas a linguagem, além de alimentar as bibliotecas com documentação, utilizá para análise de dados, e também em seus serviços de backend\n",
    "- <b>Facebook</b>\n",
    "    - É a terceira linguagem mais usada entre desenvolvedores do Facebook\n",
    "\n"
   ]
  }
 ],
 "metadata": {
  "kernelspec": {
   "display_name": "Python 3",
   "language": "python",
   "name": "python3"
  },
  "language_info": {
   "name": "python",
   "version": "3.11.4"
  }
 },
 "nbformat": 4,
 "nbformat_minor": 2
}
