{
 "cells": [
  {
   "cell_type": "markdown",
   "metadata": {},
   "source": [
    "1 - Crie uma classe chamada Veiculo com um método abstrato chamado ligar."
   ]
  },
  {
   "cell_type": "code",
   "execution_count": null,
   "metadata": {},
   "outputs": [],
   "source": [
    "from abc import ABC, abstractclassmethod\n",
    "class Veiculo(ABC):\n",
    "    def __init__(self,modelo):\n",
    "        self.modelo = modelo\n",
    "\n",
    "    @abstractclassmethod\n",
    "    def ligar(self):\n",
    "        pass"
   ]
  },
  {
   "cell_type": "markdown",
   "metadata": {},
   "source": [
    "2 - No mesmo arquivo, crie um construtor para a classe Veiculo que aceita os parâmetros marca e modelo."
   ]
  },
  {
   "cell_type": "code",
   "execution_count": 2,
   "metadata": {},
   "outputs": [],
   "source": [
    "from abc import ABC, abstractclassmethod\n",
    "\n",
    "class Veiculo(ABC):\n",
    "    def __init__(self, marca, modelo):\n",
    "        self.marca = marca\n",
    "        self.modelo = modelo\n",
    "\n",
    "    @abstractclassmethod\n",
    "    def ligar(self):\n",
    "        pass"
   ]
  },
  {
   "cell_type": "markdown",
   "metadata": {},
   "source": [
    "3 - Crie uma nova classe chamada Carro que herda da classe Veiculo."
   ]
  },
  {
   "cell_type": "code",
   "execution_count": null,
   "metadata": {},
   "outputs": [],
   "source": [
    "class Carro(Veiculo):\n",
    "    pass"
   ]
  },
  {
   "cell_type": "markdown",
   "metadata": {},
   "source": [
    "4 - No construtor da classe Carro, utilize o método super() para chamar o construtor da classe pai e atribua o atributo específico cor à classe filha.\n"
   ]
  },
  {
   "cell_type": "code",
   "execution_count": 5,
   "metadata": {},
   "outputs": [],
   "source": [
    "# from veiculo import Veiculo\n",
    "\n",
    "class Carro(Veiculo):\n",
    "    def __init__(self,marca, modelo, cor):\n",
    "        super().__init__(marca,modelo)\n",
    "        self.cor = cor\n",
    "\n",
    "    def ligar(self):\n",
    "        print('vrummm carro')\n",
    "\n",
    "    def __str__(self):\n",
    "        return f'Sou um veículo, mas especificamente um Carro, Marca:{self.marca} | Modelo: {self.modelo}'"
   ]
  },
  {
   "cell_type": "markdown",
   "metadata": {},
   "source": [
    "5 - Em um arquivo chamado main.py, importe a classe Carro."
   ]
  },
  {
   "cell_type": "code",
   "execution_count": null,
   "metadata": {},
   "outputs": [],
   "source": [
    "pass"
   ]
  },
  {
   "cell_type": "markdown",
   "metadata": {},
   "source": [
    "6 - No arquivo main.py, instancie três objetos da classe Carro com diferentes características, como marca, modelo e cor."
   ]
  },
  {
   "cell_type": "code",
   "execution_count": 6,
   "metadata": {},
   "outputs": [
    {
     "name": "stdout",
     "output_type": "stream",
     "text": [
      "Sou um veículo, mas especificamente um Carro, Marca:Fiat | Modelo: Uno\n",
      "Sou um veículo, mas especificamente um Carro, Marca:Volks | Modelo: Goleta\n",
      "Sou um veículo, mas especificamente um Carro, Marca:Volks | Modelo: Up Take Up\n"
     ]
    }
   ],
   "source": [
    "# from carro import Carro\n",
    "\n",
    "uno = Carro('Fiat','Uno','Branco')\n",
    "goleta = Carro('Volks','Goleta','Azul')\n",
    "up_take_up = Carro('Volks','Up Take Up','Branco')\n",
    "print(uno)\n",
    "print(goleta)\n",
    "print(up_take_up)\n"
   ]
  }
 ],
 "metadata": {
  "kernelspec": {
   "display_name": "Python 3",
   "language": "python",
   "name": "python3"
  },
  "language_info": {
   "codemirror_mode": {
    "name": "ipython",
    "version": 3
   },
   "file_extension": ".py",
   "mimetype": "text/x-python",
   "name": "python",
   "nbconvert_exporter": "python",
   "pygments_lexer": "ipython3",
   "version": "3.12.1"
  }
 },
 "nbformat": 4,
 "nbformat_minor": 2
}
