{
 "cells": [
  {
   "cell_type": "markdown",
   "metadata": {},
   "source": [
    "# Exercicio\n",
    "\n",
    "Com base no que vimos nessa aula sobre herança, crie uma classe Banco com dois atributos: nome e endereco. Em seguida, derive uma classe chamada Agencia que herda os atributos da classe Banco e inclua um atributo adicional chamado numero. Ambas as classes devem ter apenas o construtor."
   ]
  },
  {
   "cell_type": "code",
   "execution_count": 4,
   "metadata": {},
   "outputs": [],
   "source": [
    "class Banco:\n",
    "    def __init__(self, nome, endereco):\n",
    "        self._nome = nome\n",
    "        self._endereco = endereco\n"
   ]
  },
  {
   "cell_type": "code",
   "execution_count": 5,
   "metadata": {},
   "outputs": [],
   "source": [
    "class Agencia(Banco):\n",
    "    def __init__(self, nome, endereco, numero):\n",
    "        super().__init__(nome, endereco)\n",
    "        self._numero = numero"
   ]
  },
  {
   "cell_type": "code",
   "execution_count": 6,
   "metadata": {},
   "outputs": [
    {
     "name": "stdout",
     "output_type": "stream",
     "text": [
      "<__main__.Agencia object at 0x000001E2B8667050>\n"
     ]
    }
   ],
   "source": [
    "agencia123 = Agencia('Andre','Rua inverno', 7)\n",
    "\n",
    "print(agencia123)"
   ]
  },
  {
   "cell_type": "markdown",
   "metadata": {},
   "source": [
    "1 - Crie uma Classe Pai (Veiculo): Implemente uma classe chamada Veiculo com um construtor que aceita dois parâmetros, marca e modelo. A classe deve ter um atributo protegido _ligado inicializado como False por padrão."
   ]
  },
  {
   "cell_type": "code",
   "execution_count": null,
   "metadata": {},
   "outputs": [],
   "source": [
    "class Veiculo:\n",
    "    def __init__(self, marca, modelo):\n",
    "        self.marca = marca\n",
    "        self.modelo = modelo\n",
    "        self._ligado = False"
   ]
  },
  {
   "cell_type": "markdown",
   "metadata": {},
   "source": [
    "2 - Construa o Método Especial str: Adicione um método especial str à classe Veiculo que retorna uma mensagem formatada com a marca, modelo e o estado de ligado/desligado do veículo."
   ]
  },
  {
   "cell_type": "code",
   "execution_count": 10,
   "metadata": {},
   "outputs": [],
   "source": [
    "class Veiculo:\n",
    "    def __init__(self, marca, modelo):\n",
    "        self.marca = marca\n",
    "        self.modelo = modelo\n",
    "        self._ligado = False\n",
    "\n",
    "    def __str__(self):\n",
    "        return f'Modelo : {self.modelo} | Marca: {self.marca} | Estado : {f'Ligado' if self._ligado else f'Desligado'}'"
   ]
  },
  {
   "cell_type": "markdown",
   "metadata": {},
   "source": [
    "3 - Crie uma Classe Filha (Carro): Agora, crie uma classe chamada Carro que herda da classe Veiculo. No construtor da classe Carro, inclua um novo atributo chamado portas que indica a quantidade de portas do carro."
   ]
  },
  {
   "cell_type": "code",
   "execution_count": 9,
   "metadata": {},
   "outputs": [],
   "source": [
    "class Carro(Veiculo):\n",
    "    def __init__(self, marca, modelo, portas):\n",
    "        super().__init__(marca, modelo)\n",
    "        self.portas = portas"
   ]
  },
  {
   "cell_type": "markdown",
   "metadata": {},
   "source": [
    "4 - Implemente o Método Especial str na Classe Filha: Adicione um método especial str à classe Carro que estenda o método da classe pai (Veiculo) e inclua a informação sobre a quantidade de portas do carro."
   ]
  },
  {
   "cell_type": "code",
   "execution_count": 11,
   "metadata": {},
   "outputs": [
    {
     "name": "stdout",
     "output_type": "stream",
     "text": [
      "Modelo : Uno | Marca: Ford | Estado : Desligado | Portas : 5\n"
     ]
    }
   ],
   "source": [
    "class Carro(Veiculo):\n",
    "    def __init__(self, marca, modelo, portas):\n",
    "        super().__init__(marca, modelo)\n",
    "        self.portas = portas\n",
    "\n",
    "    def __str__(self):\n",
    "        return f'Modelo : {self.modelo} | Marca: {self.marca} | Estado : {f'Ligado' if self._ligado else f'Desligado'} | Portas : {self.portas}'\n",
    "    \n",
    "carrinho = Carro('Ford','Uno', 5)\n",
    "print(carrinho)"
   ]
  },
  {
   "cell_type": "markdown",
   "metadata": {},
   "source": [
    "5 - Crie uma Classe Filha (Moto): Similarmente, crie uma classe chamada Moto que também herda de Veiculo. Adicione um novo atributo chamado tipo ao construtor, indicando se a moto é esportiva ou casual."
   ]
  },
  {
   "cell_type": "code",
   "execution_count": null,
   "metadata": {},
   "outputs": [],
   "source": [
    "class Moto(Veiculo):\n",
    "    def __init__(self, marca, modelo, tipo):\n",
    "        super().__init__(marca, modelo)\n",
    "        self.tipo = tipo"
   ]
  },
  {
   "cell_type": "markdown",
   "metadata": {},
   "source": [
    "6 - Implemente o Método Especial str na Classe Filha (Moto): Adicione um método especial str à classe Moto que estenda o método da classe pai (Veiculo) e inclua a informação sobre o tipo da moto."
   ]
  },
  {
   "cell_type": "code",
   "execution_count": 18,
   "metadata": {},
   "outputs": [],
   "source": [
    "class Moto(Veiculo):\n",
    "    def __init__(self, marca, modelo, tipo):\n",
    "        super().__init__(marca, modelo)\n",
    "        self.tipo = tipo\n",
    "\n",
    "    def __str__(self):\n",
    "        return f'Moto do Modelo : {self.modelo.ljust(15)} | Marca: {self.marca} | Estado : {f'Ligado' if self._ligado else f'Desligado'} | Tipo : {self.tipo}'"
   ]
  },
  {
   "cell_type": "markdown",
   "metadata": {},
   "source": [
    "7 - Crie um Arquivo Main (main.py): Crie um arquivo chamado main.py no mesmo diretório que suas classes."
   ]
  },
  {
   "cell_type": "markdown",
   "metadata": {},
   "source": [
    "8 - Importe e Instancie Objetos: No arquivo main.py, importe as classes Carro e Moto. Em seguida, crie três instâncias de Carro e Moto com diferentes marcas, modelos, quantidade de portas e tipos."
   ]
  },
  {
   "cell_type": "code",
   "execution_count": null,
   "metadata": {},
   "outputs": [],
   "source": [
    "#Motos\n",
    "kawasaki_trezentas = Moto('Kawasaki', '300','Esportiva')\n",
    "honda_trezentas = Moto('Honda', 'CB300','Street')\n",
    "yamaha_twister = Moto('Yamaha', 'Twister','Street')\n",
    "\n",
    "#Carros\n",
    "up = Carro('Volkswagen','Up Take Up', '5')\n",
    "hb20 = Carro('Hyundai','Hb20 Basic', '5')\n",
    "lamborghini = Carro('Lamborghini','Aventador', '5')\n"
   ]
  },
  {
   "cell_type": "markdown",
   "metadata": {},
   "source": [
    "9 - Exiba as Informações: Para cada instância, imprima no console as informações utilizando o método str."
   ]
  },
  {
   "cell_type": "code",
   "execution_count": 19,
   "metadata": {},
   "outputs": [
    {
     "name": "stdout",
     "output_type": "stream",
     "text": [
      "Modelos de moto, disponiveis:\n",
      "Moto do Modelo : 300             | Marca: Kawasaki | Estado : Desligado | Tipo : Esportiva\n",
      "Moto do Modelo : CB300           | Marca: Honda | Estado : Desligado | Tipo : Street\n",
      "Moto do Modelo : Twister         | Marca: Yamaha | Estado : Desligado | Tipo : Street\n",
      "Modelos de caarros, disponiveis:\n",
      "Modelo : Up Take Up | Marca: Volkswagen | Estado : Desligado | Portas : 5\n",
      "Modelo : Hb20 Basic | Marca: Hyundai | Estado : Desligado | Portas : 5\n",
      "Modelo : Aventador | Marca: Lamborghini | Estado : Desligado | Portas : 5\n"
     ]
    }
   ],
   "source": [
    "#Motos\n",
    "kawasaki_trezentas = Moto('Kawasaki', '300','Esportiva')\n",
    "honda_trezentas = Moto('Honda', 'CB300','Street')\n",
    "yamaha_twister = Moto('Yamaha', 'Twister','Street')\n",
    "\n",
    "#Carros\n",
    "up = Carro('Volkswagen','Up Take Up', '5')\n",
    "hb20 = Carro('Hyundai','Hb20 Basic', '5')\n",
    "lamborghini = Carro('Lamborghini','Aventador', '5')\n",
    "\n",
    "#Print motos\n",
    "print('Modelos de moto, disponiveis:')\n",
    "print(kawasaki_trezentas)\n",
    "print(honda_trezentas)\n",
    "print(yamaha_twister)\n",
    "\n",
    "#Print Carros\n",
    "print('Modelos de caarros, disponiveis:')\n",
    "print(up)\n",
    "print(hb20)\n",
    "print(lamborghini)"
   ]
  }
 ],
 "metadata": {
  "kernelspec": {
   "display_name": "Python 3",
   "language": "python",
   "name": "python3"
  },
  "language_info": {
   "codemirror_mode": {
    "name": "ipython",
    "version": 3
   },
   "file_extension": ".py",
   "mimetype": "text/x-python",
   "name": "python",
   "nbconvert_exporter": "python",
   "pygments_lexer": "ipython3",
   "version": "3.12.1"
  }
 },
 "nbformat": 4,
 "nbformat_minor": 2
}
