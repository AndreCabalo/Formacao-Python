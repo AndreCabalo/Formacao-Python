{
 "cells": [
  {
   "cell_type": "markdown",
   "metadata": {},
   "source": [
    "# Dicionário\n",
    "\n",
    "Em dicionário temos as informações {Chave : valor} e sempre usamos {}\n",
    "\n",
    "Caso queiramos criar uma lista de dicionário podemos fazer da seguinte maneira:"
   ]
  },
  {
   "cell_type": "code",
   "execution_count": null,
   "metadata": {},
   "outputs": [],
   "source": [
    "restaurantes = [ \n",
    "    {'nome':'Praça', 'Categoria':'Japonesa','Ativo':False},\n",
    "    {'nome':'Pizza Suprema','Categoria':'Italiana','Ativo':True},\n",
    "    {'nome':'Mexican Food','Categoria':'Mexicana','Ativo':True} \n",
    "     ]"
   ]
  },
  {
   "cell_type": "markdown",
   "metadata": {},
   "source": [
    "Para acessar seu valor, podemos inserir sua chave, para receber seu valor, da seguinte maneira:"
   ]
  },
  {
   "cell_type": "code",
   "execution_count": 3,
   "metadata": {},
   "outputs": [
    {
     "name": "stdout",
     "output_type": "stream",
     "text": [
      "Praça | Japonesa | False\n",
      "Pizza Suprema | Italiana | True\n",
      "Mexican Food | Mexicana | True\n"
     ]
    }
   ],
   "source": [
    "restaurantes = [ \n",
    "    {'nome':'Praça', 'Categoria':'Japonesa','Ativo':False},\n",
    "    {'nome':'Pizza Suprema','Categoria':'Italiana','Ativo':True},\n",
    "    {'nome':'Mexican Food','Categoria':'Mexicana','Ativo':True} \n",
    "     ]\n",
    "\n",
    "#Aqui puxamos o valor pela chave\n",
    "for restaurante in restaurantes:\n",
    "    nome_restaurante = restaurante['nome']\n",
    "    categoria = restaurante['Categoria']\n",
    "    ativo = restaurante['Ativo']\n",
    "\n",
    "    print(f'{nome_restaurante} | {categoria} | {ativo}')\n",
    "        "
   ]
  },
  {
   "cell_type": "markdown",
   "metadata": {},
   "source": [
    "# Alterando o valor de uma chave do dicionário\n",
    "\n",
    "Atualmente temos duas maneiras :"
   ]
  },
  {
   "cell_type": "code",
   "execution_count": 7,
   "metadata": {},
   "outputs": [
    {
     "name": "stdout",
     "output_type": "stream",
     "text": [
      "59.9\n",
      "10.0\n",
      "55.9\n"
     ]
    }
   ],
   "source": [
    "# Criando dicionário com chave:valor \n",
    "livro = {'titulo':'Aprendendo Python', 'preco': 59.90}\n",
    "print(livro['preco'])\n",
    "\n",
    "# Mudando o valor de uma chave , apontando o nome do dicionário e a chave, atribuindo novo valor\n",
    "livro['preco'] = 10.0\n",
    "print(livro['preco'])\n",
    "\n",
    "# Mudando o valor com update\n",
    "livro.update({'preco':55.90})\n",
    "print(livro['preco'])\n"
   ]
  },
  {
   "cell_type": "markdown",
   "metadata": {},
   "source": [
    "# Espaçar o texto no mesmo tamanho\n",
    "\n",
    "Para isso usamos o <code>.ljust</code>, da seguinte maneira:"
   ]
  },
  {
   "cell_type": "code",
   "execution_count": 5,
   "metadata": {},
   "outputs": [
    {
     "name": "stdout",
     "output_type": "stream",
     "text": [
      "Arroz                |\n",
      "Abacate              |\n",
      "Carambola do Paraná  |\n"
     ]
    }
   ],
   "source": [
    "palavra_menor = 'Arroz'\n",
    "palavra_media = 'Abacate'\n",
    "palavra_grande = 'Carambola do Paraná'\n",
    "print(f'{palavra_menor.ljust(20)} |')\n",
    "print(f'{palavra_media.ljust(20)} |')\n",
    "print(f'{palavra_grande.ljust(20)} |')"
   ]
  }
 ],
 "metadata": {
  "kernelspec": {
   "display_name": "Python 3",
   "language": "python",
   "name": "python3"
  },
  "language_info": {
   "codemirror_mode": {
    "name": "ipython",
    "version": 3
   },
   "file_extension": ".py",
   "mimetype": "text/x-python",
   "name": "python",
   "nbconvert_exporter": "python",
   "pygments_lexer": "ipython3",
   "version": "3.12.1"
  }
 },
 "nbformat": 4,
 "nbformat_minor": 2
}
