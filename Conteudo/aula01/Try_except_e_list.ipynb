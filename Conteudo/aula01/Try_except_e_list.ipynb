{
 "cells": [
  {
   "cell_type": "markdown",
   "metadata": {},
   "source": [
    "# Try - Except \n",
    "\n",
    "Assim como no Java que temos o nosso try-catch, no Python temos o try - except\n",
    "\n",
    "No qual funciona da seguinte maneira:\n",
    "\n",
    "Bloco <b style=\"color:springgreen\">try:</b>\n",
    "\n",
    "-Bloco executado, que tenta fazer tais coisas...\n",
    "\n",
    "Bloco <b style=\"color:red\">except:</b>\n",
    "\n",
    "-Bloco executado, caso ocorra algum erro não mapeado"
   ]
  },
  {
   "cell_type": "markdown",
   "metadata": {},
   "source": [
    "# Criando uma lista\n",
    "\n",
    "Para criar uma lista em python é simples, basta criar uma variável e atribuir <code> [] <code>\n",
    "\n",
    "Para adicionar algum conteudo a lista, usamos o comando append\n",
    "\n"
   ]
  },
  {
   "cell_type": "code",
   "execution_count": 1,
   "metadata": {},
   "outputs": [
    {
     "name": "stdout",
     "output_type": "stream",
     "text": [
      "Cadastro de novos restaurantes\n"
     ]
    }
   ],
   "source": [
    "#Criando lista\n",
    "restaurantes = []\n",
    "\n",
    "print('Cadastro de novos restaurantes')\n",
    "nome_do_restaurante = input('Digite o nome do restaurante que deseja cadastrar: ')\n",
    "\n",
    "#Adicionando conteudo a nossa lista\n",
    "restaurantes.append(nome_do_restaurante)"
   ]
  },
  {
   "cell_type": "markdown",
   "metadata": {},
   "source": [
    "Exercicios\n",
    "\n",
    "1 - Crie uma lista para cada informação a seguir:\n",
    "\n",
    "Lista de números de 1 a 10;\n",
    "Lista com quatro nomes;\n",
    "Lista com o ano que você nasceu e o ano atual."
   ]
  },
  {
   "cell_type": "code",
   "execution_count": 4,
   "metadata": {},
   "outputs": [
    {
     "name": "stdout",
     "output_type": "stream",
     "text": [
      "[1, 2, 3, 4, 5, 6, 7, 8, 9, 10]\n",
      "['Andre', 'Lohana', 'Maria', 'Ana']\n",
      "[1992]\n"
     ]
    }
   ],
   "source": [
    "lista_numero = [1,2,3,4,5,6,7,8,9,10]\n",
    "lista_nomes = ['Andre','Lohana','Maria','Ana']\n",
    "lista_ano_nascimento = [1992]\n",
    "\n",
    "print(lista_numero)\n",
    "print(lista_nomes)\n",
    "print(lista_ano_nascimento)"
   ]
  },
  {
   "cell_type": "markdown",
   "metadata": {},
   "source": [
    "2 - Crie uma lista e utilize um loop for para percorrer todos os elementos da lista."
   ]
  },
  {
   "cell_type": "code",
   "execution_count": 5,
   "metadata": {},
   "outputs": [
    {
     "name": "stdout",
     "output_type": "stream",
     "text": [
      "1\n",
      "2\n",
      "3\n",
      "4\n",
      "5\n",
      "6\n",
      "7\n",
      "8\n",
      "9\n",
      "10\n"
     ]
    }
   ],
   "source": [
    "lista_numero = [1,2,3,4,5,6,7,8,9,10]\n",
    "\n",
    "for numero in lista_numero:\n",
    "    print(numero)"
   ]
  },
  {
   "cell_type": "markdown",
   "metadata": {},
   "source": [
    "3 - Utilize um loop for para calcular a soma dos números ímpares de 1 a 10."
   ]
  },
  {
   "cell_type": "code",
   "execution_count": 14,
   "metadata": {},
   "outputs": [
    {
     "name": "stdout",
     "output_type": "stream",
     "text": [
      "[1, 3, 5, 7, 9]\n",
      "25\n"
     ]
    }
   ],
   "source": [
    "lista_impar = []\n",
    "\n",
    "for x in range(10):\n",
    "    if x % 2 != 0:\n",
    "        lista_impar.append(x)\n",
    "\n",
    "print(lista_impar)\n",
    "print(sum(lista_impar))\n",
    "    "
   ]
  },
  {
   "cell_type": "markdown",
   "metadata": {},
   "source": [
    "4 - Utilize um loop for para imprimir os números de 1 a 10 em ordem decrescente."
   ]
  },
  {
   "cell_type": "code",
   "execution_count": 24,
   "metadata": {},
   "outputs": [
    {
     "name": "stdout",
     "output_type": "stream",
     "text": [
      "[0, 1, 2, 3, 4, 5, 6, 7, 8, 9]\n",
      "[9, 8, 7, 6, 5, 4, 3, 2, 1, 0]\n"
     ]
    }
   ],
   "source": [
    "lista = []\n",
    "\n",
    "for x in range(10):\n",
    "    lista.append(x)\n",
    "\n",
    "print(lista)\n",
    "lista.reverse()\n",
    "print(lista)\n"
   ]
  },
  {
   "cell_type": "markdown",
   "metadata": {},
   "source": [
    "5 - Solicite ao usuário um número e, em seguida, utilize um loop for para imprimir a tabuada desse número, indo de 1 a 10."
   ]
  },
  {
   "cell_type": "code",
   "execution_count": 3,
   "metadata": {},
   "outputs": [
    {
     "name": "stdout",
     "output_type": "stream",
     "text": [
      "2*1 = 2\n",
      "2*2 = 4\n",
      "2*3 = 6\n",
      "2*4 = 8\n",
      "2*5 = 10\n",
      "2*6 = 12\n",
      "2*7 = 14\n",
      "2*8 = 16\n",
      "2*9 = 18\n",
      "2*10 = 20\n"
     ]
    }
   ],
   "source": [
    "numero = int(input('Insira um número: '))\n",
    "\n",
    "for x in range(1,11):\n",
    "    resultado = x * numero\n",
    "    print(f'{numero}*{x} = {resultado}')"
   ]
  },
  {
   "cell_type": "markdown",
   "metadata": {},
   "source": [
    "6 - Crie uma lista de números e utilize um loop for para calcular a soma de todos os elementos. Utilize um bloco try-except para lidar com possíveis exceções."
   ]
  },
  {
   "cell_type": "code",
   "execution_count": 29,
   "metadata": {},
   "outputs": [
    {
     "name": "stdout",
     "output_type": "stream",
     "text": [
      "55\n"
     ]
    }
   ],
   "source": [
    "lista_numeros = [1,2,3,4,5,6,7,8,9,10]\n",
    "\n",
    "soma = 0\n",
    "\n",
    "for n in lista_numeros:\n",
    "    try:\n",
    "        soma += n\n",
    "\n",
    "    except TypeError as e:\n",
    "        print(f'Erro: {e}')\n",
    "\n",
    "print(soma)"
   ]
  },
  {
   "cell_type": "markdown",
   "metadata": {},
   "source": [
    "7 - Construa um código que calcule a média dos valores em uma lista. Utilize um bloco try-except para lidar com a divisão por zero, caso a lista esteja vazia."
   ]
  },
  {
   "cell_type": "code",
   "execution_count": 30,
   "metadata": {},
   "outputs": [
    {
     "name": "stdout",
     "output_type": "stream",
     "text": [
      "5.5\n"
     ]
    }
   ],
   "source": [
    "lista_numeros = [1,2,3,4,5,6,7,8,9,10]\n",
    "\n",
    "try:\n",
    "    total = sum(lista_numeros)\n",
    "    comprimento = len(lista_numeros)\n",
    "    media = total/comprimento\n",
    "    print(media)\n",
    "\n",
    "except ZeroDivisionError:\n",
    "    print('Erro por tentar dividir por 0')\n"
   ]
  }
 ],
 "metadata": {
  "kernelspec": {
   "display_name": "Python 3",
   "language": "python",
   "name": "python3"
  },
  "language_info": {
   "codemirror_mode": {
    "name": "ipython",
    "version": 3
   },
   "file_extension": ".py",
   "mimetype": "text/x-python",
   "name": "python",
   "nbconvert_exporter": "python",
   "pygments_lexer": "ipython3",
   "version": "3.11.4"
  }
 },
 "nbformat": 4,
 "nbformat_minor": 2
}
