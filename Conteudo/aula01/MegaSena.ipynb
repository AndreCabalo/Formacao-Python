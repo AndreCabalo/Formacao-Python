{
 "cells": [
  {
   "cell_type": "markdown",
   "metadata": {},
   "source": [
    "# Programa sorteia 6x\n",
    "\n",
    "Vou elaborar um programa que sorteia <code>6x números da mega sena aleatóriamente</code> com o <code>seed do horário do sorteio</code>:"
   ]
  },
  {
   "cell_type": "code",
   "execution_count": 6,
   "metadata": {},
   "outputs": [
    {
     "name": "stdout",
     "output_type": "stream",
     "text": [
      "[5, 9, 12, 18, 33, 34]\n",
      "[6, 13, 25, 33, 35, 42]\n",
      "[1, 26, 27, 33, 36, 46]\n"
     ]
    }
   ],
   "source": [
    "import random\n",
    "\n",
    "def sorteia_seis():\n",
    "\n",
    "    lista_sorteio = set()\n",
    "\n",
    "    while len(lista_sorteio) != 6 :\n",
    "        numero = random.randrange(1,60+1,1)\n",
    "        lista_sorteio.add(numero)\n",
    "\n",
    "    list(lista_sorteio)\n",
    "\n",
    "    print(sorted(list(lista_sorteio)))\n",
    "\n",
    "#Seed de 20hr onde o UTC/GMT -03:00 (Horário de brasilia é -3 do fuso da Coordenada Universal do tempo)\n",
    "sorteia_seis()\n",
    "sorteia_seis()\n",
    "sorteia_seis()"
   ]
  }
 ],
 "metadata": {
  "kernelspec": {
   "display_name": "Python 3",
   "language": "python",
   "name": "python3"
  },
  "language_info": {
   "codemirror_mode": {
    "name": "ipython",
    "version": 3
   },
   "file_extension": ".py",
   "mimetype": "text/x-python",
   "name": "python",
   "nbconvert_exporter": "python",
   "pygments_lexer": "ipython3",
   "version": "3.11.4"
  }
 },
 "nbformat": 4,
 "nbformat_minor": 2
}
