{
 "cells": [
  {
   "cell_type": "markdown",
   "metadata": {},
   "source": [
    "<h1 style=\"color:crimson\">Estruturas de repetição em Python:</h1>\n",
    "\n",
    "Temos dois tipos de estrutuas o <code>for</code> e <code>while</code>\n",
    "\n",
    "- Usamos o <code>for</code>, quando queremos iterar sobre um bloco um <b style=\"color:red\">determinado número de vezes</b>\n",
    "\n",
    "- E usamos o <code>while</code>, quando queremos iterar sobre um bloco <b style=\"color:red\">enquanto a expressão for dada como verdadeira</b>"
   ]
  },
  {
   "cell_type": "markdown",
   "metadata": {},
   "source": [
    "<h1 style=\"color:springgreen\">FOR</h1>\n",
    "\n",
    "Utilizamos o for quando queremos iterar sobre um bloco de código por um determinado número de vezes."
   ]
  },
  {
   "cell_type": "code",
   "execution_count": 2,
   "metadata": {},
   "outputs": [
    {
     "name": "stdout",
     "output_type": "stream",
     "text": [
      "1\n",
      "2\n"
     ]
    }
   ],
   "source": [
    "# FOR RANGE, atuamos apartir do primeiro parametro até o segundo parametro(não inclusivo)\n",
    "for i in range(1,3):\n",
    "    print(i)"
   ]
  },
  {
   "cell_type": "markdown",
   "metadata": {},
   "source": [
    "<h1 style=\"color:springgreen\">WHILE</h1>\n",
    "\n",
    "Usamos quando queremos que um trecho de código se repita, até que uma condição seja satisfeita, ou seja é necessário que uma <b>expressão booleanda dada seja verdadeiro</b> e o <code>while</code> roda até surgir um <code>false</code>, se não surgir ele ficará em um loop até que a condição seja false"
   ]
  },
  {
   "cell_type": "code",
   "execution_count": 3,
   "metadata": {},
   "outputs": [
    {
     "name": "stdout",
     "output_type": "stream",
     "text": [
      "1090\n"
     ]
    }
   ],
   "source": [
    "gastos=0\n",
    "valor_gasto=0\n",
    "while gastos < 1000:\n",
    "    valor_gasto = int(input('Digite o valor gasto'))\n",
    "    gastos = gastos + valor_gasto\n",
    "print(gastos)\n"
   ]
  }
 ],
 "metadata": {
  "kernelspec": {
   "display_name": "Python 3",
   "language": "python",
   "name": "python3"
  },
  "language_info": {
   "codemirror_mode": {
    "name": "ipython",
    "version": 3
   },
   "file_extension": ".py",
   "mimetype": "text/x-python",
   "name": "python",
   "nbconvert_exporter": "python",
   "pygments_lexer": "ipython3",
   "version": "3.11.4"
  }
 },
 "nbformat": 4,
 "nbformat_minor": 2
}
